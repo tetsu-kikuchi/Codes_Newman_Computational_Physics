{
 "cells": [
  {
   "cell_type": "markdown",
   "id": "700c43f7-7904-4caa-981c-66db95060c9c",
   "metadata": {},
   "source": [
    "## Example 4.1 : The difference of two numbers"
   ]
  },
  {
   "cell_type": "code",
   "execution_count": 1,
   "id": "cf40df9d-918c-4782-9f3f-5a0531fabf82",
   "metadata": {},
   "outputs": [],
   "source": [
    "import numpy as np\n",
    "from math import sqrt"
   ]
  },
  {
   "cell_type": "code",
   "execution_count": 2,
   "id": "e77fae97-011c-4eb9-9e19-32db621579d7",
   "metadata": {},
   "outputs": [],
   "source": [
    "# for later use, define some functions\n",
    "def parse_double(d):  # given a 64bit double, this function returns its sign, exponent, fraction part\n",
    "    x = np.float64(d)\n",
    "    x_int64 = x.view(np.int64)  # reinterpret the bits of x as int64 (necessary to use 064b in the next line)\n",
    "    binary_str = str(f\"{x_int64:064b}\")  # convert the number to string representing the binary\n",
    "    sign = binary_str[0]\n",
    "    exponent = binary_str[1:12]\n",
    "    fraction = binary_str[12:]\n",
    "    return sign, exponent, fraction\n",
    "\n",
    "def make_double(sign_str, exponent_str, fraction_str):  # this is the \"inverse\" of parse_double\n",
    "    assert len(sign_str)==1 and len(exponent_str)==11 and len(fraction_str)==52\n",
    "    sign = int(sign_str, 2)\n",
    "    exponent = int(exponent_str, 2)\n",
    "    fraction = 0.\n",
    "    for dig in range(52):\n",
    "        bit = int(fraction_str[dig])\n",
    "        r = bit * 2**(-dig-1)\n",
    "        fraction += r\n",
    "    assert fraction < 1.\n",
    "    d = (-1)**sign * (1. + fraction) * 2**(exponent - 1023)\n",
    "    return d"
   ]
  },
  {
   "cell_type": "markdown",
   "id": "e9c2d449-5742-4743-b7a3-df951e7f3d17",
   "metadata": {},
   "source": [
    "# Task\n",
    "Calculate the (1e14) *(y-x) in the following cell step by step according to the rule of floating point addition and multiplication"
   ]
  },
  {
   "cell_type": "code",
   "execution_count": 3,
   "id": "9831d72e-e251-4fea-af84-63846cc6c902",
   "metadata": {},
   "outputs": [
    {
     "name": "stdout",
     "output_type": "stream",
     "text": [
      "1.4210854715202004\n",
      "1.4142135623730951\n"
     ]
    }
   ],
   "source": [
    "x = 1.0\n",
    "y = 1.0 + (1e-14) *sqrt(2)\n",
    "print((1e14) *(y-x))\n",
    "print(sqrt(2))"
   ]
  },
  {
   "cell_type": "markdown",
   "id": "97bef4af-ae23-4954-856d-9bcf20a846c9",
   "metadata": {},
   "source": [
    "### Calculation of (1e-14) *sqrt(2)"
   ]
  },
  {
   "cell_type": "code",
   "execution_count": 4,
   "id": "62ba482a-a16d-4eb8-bf39-3393cce00d91",
   "metadata": {},
   "outputs": [
    {
     "name": "stdout",
     "output_type": "stream",
     "text": [
      "('0', '01111010000', '0110100001001001101110000110101000010010101110011011')\n",
      "('0', '01111111111', '0110101000001001111001100110011111110011101111001101')\n"
     ]
    }
   ],
   "source": [
    "print(parse_double(1e-14))\n",
    "print(parse_double(sqrt(2)))"
   ]
  },
  {
   "cell_type": "markdown",
   "id": "be57759f-afce-4db6-aa9e-012ccd0ed476",
   "metadata": {},
   "source": [
    "A = 01111010000____0110100001001001101110000110101000010010101110011011  \n",
    "B = 01111111111____0110101000001001111001100110011111110011101111001101  \n",
    "Prepend \"1.\" to the fraction part:  \n",
    "A = 01111010000__1.0110100001001001101110000110101000010010101110011011  \n",
    "B = 01111111111__1.0110101000001001111001100110011111110011101111001101  \n",
    "Add the biased exponent:  \n",
    "01111010000 + 01111111111 - 01111111111 = 01111010000  \n",
    "Multiply the 1+f parts:  \n",
    "1.0110100001001001101110000110101000010010101110011011 * 1.0110101000001001111001100110011111110011101111001101 = 1.111111011000011000101101101000100000001010010101011011 (truncated to 55 digits)  \n",
    "Then C=A*B is:  \n",
    "C = 01111010000____1.111111011000011000101101101000100000001010010101011011  \n",
    "Normalize: (unnecessary)  \n",
    "Round:  \n",
    "C = 01111010000____1.1111110110000110001011011010001000000010100101010111  \n",
    "\n",
    "The intermediate result is as follows:"
   ]
  },
  {
   "cell_type": "code",
   "execution_count": 5,
   "id": "6e666e4d-2ec6-4daf-96c4-8b530548fd14",
   "metadata": {},
   "outputs": [
    {
     "data": {
      "text/plain": [
       "1.4142135623730951e-14"
      ]
     },
     "execution_count": 5,
     "metadata": {},
     "output_type": "execute_result"
    }
   ],
   "source": [
    "make_double(\"0\", \"01111010000\", \"1111110110000110001011011010001000000010100101010111\")"
   ]
  },
  {
   "cell_type": "markdown",
   "id": "0a41bcae-1913-4025-8243-afefe0885318",
   "metadata": {},
   "source": [
    "### Calculation of 1.0 + (1e-14) *sqrt(2)"
   ]
  },
  {
   "cell_type": "code",
   "execution_count": 6,
   "id": "d8305bef-a23b-4b30-8308-c035628bbeac",
   "metadata": {},
   "outputs": [
    {
     "name": "stdout",
     "output_type": "stream",
     "text": [
      "('0', '01111111111', '0000000000000000000000000000000000000000000000000000')\n"
     ]
    }
   ],
   "source": [
    "print(parse_double(1.0))"
   ]
  },
  {
   "cell_type": "markdown",
   "id": "aab6989b-a3c9-43c5-a6d5-07876ad90f42",
   "metadata": {},
   "source": [
    "A = 01111010000____1111110110000110001011011010001000000010100101010111  (the previous result)  \n",
    "B = 01111111111____0000000000000000000000000000000000000000000000000000  \n",
    "Prepend \"1.\" to the fraction part, the result of which we call \"1+f part\":  \n",
    "A = 01111010000__1.1111110110000110001011011010001000000010100101010111  \n",
    "B = 01111111111__1.0000000000000000000000000000000000000000000000000000  \n",
    "Make the exponent of A as the same as that of B, and shift the 1+f part to the right:  \n",
    "Since 01111111111 - 01111010000 = 101111 = (47)_10, we shift the 1+f part of A by 47 times!!  \n",
    "A = 01111111111__0.0000000000000000000000000000000000000000000000111111101100 (truncated)   \n",
    "B = 01111111111__1.0000000000000000000000000000000000000000000000000000  \n",
    "Add the 1+f parts, and call the result C:   \n",
    "C = 01111111111__1.0000000000000000000000000000000000000000000000111111101100  \n",
    "Round :  \n",
    "C = 01111111111__1.0000000000000000000000000000000000000000000001000000  \n",
    " \n",
    "The intermediate result is as follows:"
   ]
  },
  {
   "cell_type": "code",
   "execution_count": 7,
   "id": "ce0a697f-7dde-48e2-9fed-a4dd77a6148a",
   "metadata": {},
   "outputs": [
    {
     "data": {
      "text/plain": [
       "1.0000000000000142"
      ]
     },
     "execution_count": 7,
     "metadata": {},
     "output_type": "execute_result"
    }
   ],
   "source": [
    "make_double(\"0\", \"01111111111\", \"0000000000000000000000000000000000000000000001000000\")"
   ]
  },
  {
   "cell_type": "markdown",
   "id": "61c0c40e-795d-4261-9b63-ec9b45fbd05b",
   "metadata": {},
   "source": [
    "### Calculation of [1.0 + (1e-14) *sqrt(2)] - 1.0"
   ]
  },
  {
   "cell_type": "code",
   "execution_count": 8,
   "id": "bb4b8f69-a169-42e9-be84-9ab55a840c62",
   "metadata": {},
   "outputs": [
    {
     "name": "stdout",
     "output_type": "stream",
     "text": [
      "('0', '01111111111', '0000000000000000000000000000000000000000000000000000')\n"
     ]
    }
   ],
   "source": [
    "print(parse_double(1.0))"
   ]
  },
  {
   "cell_type": "markdown",
   "id": "9b5ad39c-b35e-47a7-856a-54011c8ac6f2",
   "metadata": {},
   "source": [
    "A = 01111111111____1.0000000000000000000000000000000000000000000001000000  (previous result)  \n",
    "B = 01111111111____1.0000000000000000000000000000000000000000000000000000\n",
    "Subtract the 1+f part of B from that of A:  \n",
    "C = 01111111111____0.0000000000000000000000000000000000000000000001000000  \n",
    "Normalize :  \n",
    "We should shift the 1+f part of C to the left 46 times !!  Since (46)_10 = (101110)_2, the exponent part becomes 01111111111 - 101110 = 01111010001  \n",
    "C = 01111010001____1.0000000000000000000000000000000000000000000000000000    \n",
    "\n",
    "Thus we have seen that the combination of \"large number of right-shift\" + \"truncation\" + \"large number of left-shit\" yields large numerical error.  \n",
    "The intermediate result is:"
   ]
  },
  {
   "cell_type": "code",
   "execution_count": 9,
   "id": "92e0aee0-b614-464e-90ee-5fd5c3be0a8f",
   "metadata": {},
   "outputs": [
    {
     "data": {
      "text/plain": [
       "1.4210854715202004e-14"
      ]
     },
     "execution_count": 9,
     "metadata": {},
     "output_type": "execute_result"
    }
   ],
   "source": [
    "make_double(\"0\", \"01111010001\", \"0000000000000000000000000000000000000000000000000000\")"
   ]
  },
  {
   "cell_type": "markdown",
   "id": "5f415582-9b8f-4197-bae2-9a447ad9791e",
   "metadata": {},
   "source": [
    "### Calculation of ([1.0 + (1e-14) *sqrt(2)] - 1.0) * 1e14\n",
    "The result might be obvious, but we perform calculation anyway."
   ]
  },
  {
   "cell_type": "code",
   "execution_count": 10,
   "id": "f959e51f-ea82-4677-a963-49cadfad58e7",
   "metadata": {},
   "outputs": [
    {
     "name": "stdout",
     "output_type": "stream",
     "text": [
      "('0', '10000101101', '0110101111001100010000011110100100000000000000000000')\n"
     ]
    }
   ],
   "source": [
    "print(parse_double(1e14))"
   ]
  },
  {
   "cell_type": "markdown",
   "id": "e7c1cd13-9a34-4829-9eec-a72b4d9ec455",
   "metadata": {},
   "source": [
    "A = 01111010001____1.0000000000000000000000000000000000000000000000000000  (previous result)  \n",
    "B = 10000101101____1.0110101111001100010000011110100100000000000000000000  \n",
    "Add the biased exponent:  \n",
    "01111010001 + 10000101101 - 01111111111 = 01111111111  \n",
    "Multiply the 1+f parts:  \n",
    "the result is clearly 1.0110101111001100010000011110100100000000000000000000  \n",
    "Then C=A*B is:  \n",
    "C = 01111111111____1.0110101111001100010000011110100100000000000000000000  \n",
    "Normalize: (unnecessary) \n",
    "Round: (unnecessary)  \n",
    "\n",
    "Thus the final result is:"
   ]
  },
  {
   "cell_type": "code",
   "execution_count": 11,
   "id": "ce009ee3-78cf-4c41-bd10-e83cc8e3acfe",
   "metadata": {},
   "outputs": [
    {
     "data": {
      "text/plain": [
       "1.4210854715202004"
      ]
     },
     "execution_count": 11,
     "metadata": {},
     "output_type": "execute_result"
    }
   ],
   "source": [
    "make_double(\"0\", \"01111111111\", \"0110101111001100010000011110100100000000000000000000\")"
   ]
  },
  {
   "cell_type": "markdown",
   "id": "dfe189c9-7804-445e-975c-56849994f114",
   "metadata": {},
   "source": [
    "This coincides with the expected value : "
   ]
  },
  {
   "cell_type": "code",
   "execution_count": 12,
   "id": "f02fc118-ac42-4ad7-95fd-b559a6685f6d",
   "metadata": {},
   "outputs": [
    {
     "data": {
      "text/plain": [
       "1.4210854715202004"
      ]
     },
     "execution_count": 12,
     "metadata": {},
     "output_type": "execute_result"
    }
   ],
   "source": [
    "((1.0 + (1e-14) *sqrt(2)) - 1.0) * 1e14"
   ]
  },
  {
   "cell_type": "markdown",
   "id": "9dc7f211-85d1-4d39-be9d-85285f236b7a",
   "metadata": {},
   "source": [
    "when we take another look : "
   ]
  },
  {
   "cell_type": "code",
   "execution_count": 13,
   "id": "ab3db3e7-0bc2-466e-93bb-f312b5f145fe",
   "metadata": {},
   "outputs": [
    {
     "name": "stdout",
     "output_type": "stream",
     "text": [
      "step 1:  1.41421356237309514547462185873882845044136047363281250000000000000000000000000000000000000000000000000000000000\n",
      "step 2:  0.00000000000001414213562373095145516491647545337186492049163372142217554028320591896772384643554687500000000000\n",
      "step 3:  1.00000000000001421085471520200371742248535156250000000000000000000000000000000000000000000000000000000000000000\n",
      "step 4:  0.00000000000001421085471520200371742248535156250000000000000000000000000000000000000000000000000000000000000000\n",
      "step 5:  1.42108547152020037174224853515625000000000000000000000000000000000000000000000000000000000000000000000000000000\n"
     ]
    }
   ],
   "source": [
    "a = sqrt(2)\n",
    "print(\"step 1: \", f\"{a:.110f}\")\n",
    "a = 1e-14 * a\n",
    "print(\"step 2: \", f\"{a:.110f}\")\n",
    "a = 1.0 + a\n",
    "print(\"step 3: \", f\"{a:.110f}\")\n",
    "a = a - 1.0\n",
    "print(\"step 4: \", f\"{a:.110f}\")\n",
    "a = 1e14 * a\n",
    "print(\"step 5: \", f\"{a:.110f}\")"
   ]
  },
  {
   "cell_type": "code",
   "execution_count": null,
   "id": "bee78121-52ef-4c52-8d23-3161fae82725",
   "metadata": {},
   "outputs": [],
   "source": []
  }
 ],
 "metadata": {
  "kernelspec": {
   "display_name": "Python 3 (ipykernel)",
   "language": "python",
   "name": "python3"
  },
  "language_info": {
   "codemirror_mode": {
    "name": "ipython",
    "version": 3
   },
   "file_extension": ".py",
   "mimetype": "text/x-python",
   "name": "python",
   "nbconvert_exporter": "python",
   "pygments_lexer": "ipython3",
   "version": "3.10.1"
  }
 },
 "nbformat": 4,
 "nbformat_minor": 5
}
