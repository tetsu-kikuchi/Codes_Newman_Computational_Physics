{
 "cells": [
  {
   "cell_type": "markdown",
   "id": "329690b0-a239-4a04-acd6-bd9c3453a642",
   "metadata": {},
   "source": [
    "# Example 5.3 : $\\int_0^\\infty dx~ e^{-x^2}$ by various change of variables"
   ]
  },
  {
   "cell_type": "code",
   "execution_count": 1,
   "id": "e7aaa42d-e900-4550-825c-aee73877b37d",
   "metadata": {},
   "outputs": [],
   "source": [
    "import numpy as np\n",
    "from math import exp, sqrt, pi, cos, tan\n",
    "import matplotlib.pyplot as plt\n",
    "from utils import gaussxw"
   ]
  },
  {
   "cell_type": "markdown",
   "id": "c7229a22-fb66-4af2-9331-b0d6f474e9b0",
   "metadata": {},
   "source": [
    "## Task\n",
    "Calculate $I=\\int_0^\\infty dx~ e^{-x^2}$ by the following three methods:\n",
    " - trapezoid\n",
    " - trapezoid + euler-maclauring correction $\\frac{1}{12}h^2(f'(b)-f'(a))$\n",
    " - Gaussian quadrature\n",
    "\n",
    "Moreover, use the following two functions for change of variable to change the infinite integral domain to finite one:  \n",
    " - $x=z/(1-z)$\n",
    " - $x=\\tan z$\n",
    "\n",
    "That is, we test 3 integration methods and 2 functions for the change of the variable, so in all 3x2=6 patterns to test.  \n",
    "We first consider each of three methods for the case of $x=z/(1-z)$, and then for the case of $x=\\tan z$.  \n",
    "\n",
    "For reference, the exact value of the integral is $\\sqrt{\\pi}/2$, which is 0.886226925452758. "
   ]
  },
  {
   "cell_type": "code",
   "execution_count": 2,
   "id": "1269b9c0-b7ef-4b2d-8a58-d7ad1670f307",
   "metadata": {},
   "outputs": [
    {
     "name": "stdout",
     "output_type": "stream",
     "text": [
      "0.8862269254527579\n"
     ]
    }
   ],
   "source": [
    "print(sqrt(pi)/2)"
   ]
  },
  {
   "cell_type": "code",
   "execution_count": 3,
   "id": "23c74969-3ea6-4408-864f-83dcfad0ee5d",
   "metadata": {},
   "outputs": [],
   "source": [
    "def trapezoid(f, a, b, N):\n",
    "    \"returns integral value of f from a to b using trapezoid approximation\"\n",
    "    assert a<b\n",
    "    h = (b-a)/N\n",
    "    result = 0.\n",
    "    for k in range(1,N+1):\n",
    "        xk = a + h*k\n",
    "        result += h*f(xk)\n",
    "    result += 0.5*h*(f(a) - f(b))\n",
    "    return result\n",
    "\n",
    "def euler_maclaurin(f, df, a, b, N):\n",
    "    assert a<b\n",
    "    h = (b-a)/N  \n",
    "    correction = 1/12*h*h*(df(a) - df(b))\n",
    "    return trapezoid(f, a, b, N) + correction\n",
    "\n",
    "def gauss(f, a, b, N):\n",
    "    \"returns integral value of f from a to b using Gaussian quadrature\"\n",
    "    assert a<b\n",
    "    x, w = gaussxw.gaussxwab(N, a, b)\n",
    "    result = 0.\n",
    "    for k in range(N):\n",
    "        result += w[k] * f(x[k])\n",
    "    return float(result)"
   ]
  },
  {
   "cell_type": "markdown",
   "id": "c8d22958-0563-4ec0-b401-9c50e0f8ba45",
   "metadata": {},
   "source": [
    "### $x=z/(1-z)$  \n",
    "First we consider the case of using transformation $x=z/(1-z)$.  In this case, since $dx = dz/(1-z)^2$,   \n",
    "$I=\\int_0^\\infty dx~ e^{-x^2} = \\int_0^1 dz~ g(z)$  with $g(z)=\\frac{1}{(1-z)^2}\\exp\\left( - \\frac{z^2}{(1-z)^2} \\right)$.  \n",
    "The derivative is $g'(z)=2\\frac{z^3-3z+1}{(1-z)^5}\\exp(-\\frac{z^2}{(1-z)^2})$, which we use for euler-maclaurin correction.   "
   ]
  },
  {
   "cell_type": "code",
   "execution_count": 4,
   "id": "329d3b56-45db-4d3a-8b7f-e7aa5ded6a48",
   "metadata": {},
   "outputs": [
    {
     "name": "stdout",
     "output_type": "stream",
     "text": [
      "true value                 : 0.8862269254527579\n",
      "integral value by trapezoid      : 0.8862102587861348, its relative error is 1.8806319402481906e-05\n",
      "integral value by euler-maclaurin: 0.8862269254528015, its relative error is 4.9107899247218366e-14\n",
      "integral value by gauss          : 0.886226925452758, its relative error is 1.2527525318167949e-16\n"
     ]
    }
   ],
   "source": [
    "def g(z):\n",
    "    assert 0<=z<=1\n",
    "    return exp(- z**2/(1-z)**2) / (1-z)**2 if z<1. else 0.  # we treat the case of z=1 separately to avoid zero division \n",
    "\n",
    "def dg(z):\n",
    "    return exp(-z**2/(1-z)**2)*2*(z**2-3*z+1)/(1-z)**5 if z<1. else 0.  # we treat the case of z=1 separately to avoid zero division \n",
    "\n",
    "print(f\"true value                 : {sqrt(pi)/2}\")\n",
    "value_tra = trapezoid(g, 0, 1, N=100)\n",
    "print(f\"integral value by trapezoid      : {value_tra}, its relative error is {abs(value_tra-sqrt(pi)/2)/(sqrt(pi)/2)}\")\n",
    "value_em = euler_maclaurin(g, dg, 0, 1, N=100)\n",
    "print(f\"integral value by euler-maclaurin: {value_em}, its relative error is {abs(value_em-sqrt(pi)/2)/(sqrt(pi)/2)}\")\n",
    "value_gau = gauss(g, 0, 1, N=100)\n",
    "print(f\"integral value by gauss          : {value_gau}, its relative error is {abs(value_gau-sqrt(pi)/2)/(sqrt(pi)/2)}\")"
   ]
  },
  {
   "cell_type": "markdown",
   "id": "ab583a2a-ead8-4e93-82c9-21c4acd8d537",
   "metadata": {},
   "source": [
    "Thus, we see that the Gauss quadrature is the most accurate, the trapezoid+euler-maclauin is the second most accurate, and the trapezoid alone the least accurate, as generally expected.  "
   ]
  },
  {
   "cell_type": "markdown",
   "id": "ecec0264-f1ad-457d-b018-7e7d3706a45e",
   "metadata": {},
   "source": [
    "### $x=\\tan(z)$    \n",
    "Next we consider the case of using transformation $x=\\tan(z)$.  In this case, since $dx = dz/\\cos^2(z)$,   \n",
    "$I=\\int_0^\\infty dx~ e^{-x^2} = \\int_0^{\\pi/2} dz~ g(z)$  with $g(z)=\\frac{1}{\\cos^2(z)}\\exp(-\\tan^2(z))$.  \n",
    "The derivative is $g'(z)=-2\\frac{\\tan^3(z)}{\\cos^2(z)}\\exp(-\\tan^2(z))$, which we use for euler-maclaurin correction.   "
   ]
  },
  {
   "cell_type": "code",
   "execution_count": 5,
   "id": "59f3871a-5ea9-4106-8d3e-6b7a7ff753ac",
   "metadata": {},
   "outputs": [
    {
     "name": "stdout",
     "output_type": "stream",
     "text": [
      "true value                 : 0.8862269254527579\n",
      "integral value by trapezoid      : 0.8617218398274927, its relative error is 0.027651028107440977\n",
      "integral value by euler-maclaurin: 0.8617409116695426, its relative error is 0.027629507838193786\n",
      "integral value by gauss          : 0.861740913033365, its relative error is 0.027629506299285015\n",
      "----Increase N from 100 to 1000----\n",
      "integral value by trapezoid      : 0.8617407223148087, its relative error is 0.0276297215021307\n",
      "integral value by euler-maclaurin: 0.8617409130332292, its relative error is 0.027629506299438226\n",
      "integral value by gauss          : 0.8617409130333664, its relative error is 0.027629506299283384\n"
     ]
    }
   ],
   "source": [
    "def g(z):\n",
    "    assert 0<=z<=pi/2\n",
    "    eps = np.finfo(np.float64).eps\n",
    "    return exp(-tan(z)**2) / cos(z)**2 if z<pi/2-eps else 0.  # we treat the case of z=pi/2 separately to avoid zero division \n",
    "\n",
    "def dg(z):\n",
    "    assert 0<=z<=pi/2\n",
    "    eps = np.finfo(np.float64).eps\n",
    "    return -2*exp(-tan(z)**2) * tan(z)**3 / cos(z)**2 if z<pi/2-eps else 0.  # we treat the case of z=pi/2 separately to avoid zero division \n",
    "\n",
    "print(f\"true value                 : {sqrt(pi)/2}\")\n",
    "value_tra = trapezoid(g, 0, 1, N=100)\n",
    "print(f\"integral value by trapezoid      : {value_tra}, its relative error is {abs(value_tra-sqrt(pi)/2)/(sqrt(pi)/2)}\")\n",
    "value_em = euler_maclaurin(g, dg, 0, 1, N=100)\n",
    "print(f\"integral value by euler-maclaurin: {value_em}, its relative error is {abs(value_em-sqrt(pi)/2)/(sqrt(pi)/2)}\")\n",
    "value_gau = gauss(g, 0, 1, N=100)\n",
    "print(f\"integral value by gauss          : {value_gau}, its relative error is {abs(value_gau-sqrt(pi)/2)/(sqrt(pi)/2)}\")\n",
    "\n",
    "# Increase N from 100 to 1000\n",
    "print(\"----Increase N from 100 to 1000----\")\n",
    "value_tra = trapezoid(g, 0, 1, N=1000)\n",
    "print(f\"integral value by trapezoid      : {value_tra}, its relative error is {abs(value_tra-sqrt(pi)/2)/(sqrt(pi)/2)}\")\n",
    "value_em = euler_maclaurin(g, dg, 0, 1, N=1000)\n",
    "print(f\"integral value by euler-maclaurin: {value_em}, its relative error is {abs(value_em-sqrt(pi)/2)/(sqrt(pi)/2)}\")\n",
    "value_gau = gauss(g, 0, 1, N=1000)\n",
    "print(f\"integral value by gauss          : {value_gau}, its relative error is {abs(value_gau-sqrt(pi)/2)/(sqrt(pi)/2)}\")"
   ]
  },
  {
   "cell_type": "markdown",
   "id": "fab58208-81d7-41af-9b8a-ed1d444eb823",
   "metadata": {},
   "source": [
    "In this case, the result has the following characteristics:\n",
    " - it is overall not accurate (with a few percent relative error !)\n",
    " - different integral formulas do not return substantially different result\n",
    " - increasing N does not improve the result"
   ]
  },
  {
   "cell_type": "markdown",
   "id": "a5d529b5-5675-4477-86c8-d8c5322a7542",
   "metadata": {},
   "source": [
    "## Discussion\n",
    "\n",
    "We have seen that while using the transformation function $x=z/(1-z)$ gives a result with good accuracy, using the other one $x=\\tan(z)$ gives a poor result with some weird characteristics.  \n",
    "\n",
    "Why?\n",
    "\n",
    "Whether it may help or not, let us compare the transformation functions by plotting:  "
   ]
  },
  {
   "cell_type": "code",
   "execution_count": 6,
   "id": "4c568600-365d-4d1f-ab14-c579348e69a0",
   "metadata": {},
   "outputs": [
    {
     "data": {
      "image/png": "[encoded data removed]",
      "text/plain": [
       "<Figure size 400x300 with 1 Axes>"
      ]
     },
     "metadata": {},
     "output_type": "display_data"
    }
   ],
   "source": [
    "z = np.linspace(0, 1-0.1, 100)\n",
    "x = z/(1-z)\n",
    "z2 = np.linspace(0, pi/2-0.1, 100)\n",
    "x2 = np.tan(z2)\n",
    "plt.figure(figsize=(4, 3))\n",
    "plt.plot(pi/2*z, x, label='z/(1-z)')  # to make comparison easier, we elongate the domain [0,1] to [0, pi/2]\n",
    "plt.plot(z2, x2, label='tan(z)')\n",
    "plt.legend()\n",
    "plt.show()"
   ]
  },
  {
   "cell_type": "markdown",
   "id": "a2c77df0-2a64-42b9-a780-fdf94dc43a4d",
   "metadata": {},
   "source": [
    "They do not seem to have significant difference.  \n",
    "\n",
    "Next, let us plot the integrands after transformation of variable, that is, $g(z)=\\frac{1}{(1-z)^2}\\exp\\left( - \\frac{z^2}{(1-z)^2} \\right)$ in the case of $x=z/(1-z)$ and $g(z)=\\frac{1}{\\cos^2(z)}\\exp(-\\tan^2(z))$ in the case of $x=\\tan(z)$: "
   ]
  },
  {
   "cell_type": "code",
   "execution_count": 7,
   "id": "ecdfced4-bd89-45f6-a154-2cf03aa67f48",
   "metadata": {},
   "outputs": [
    {
     "data": {
      "image/png": "[encoded data removed]",
      "text/plain": [
       "<Figure size 400x300 with 1 Axes>"
      ]
     },
     "metadata": {},
     "output_type": "display_data"
    }
   ],
   "source": [
    "z = np.linspace(0, 1-0.0001, 100)\n",
    "g = 1/(1-z)**2 * np.exp(-z**2/(1-z)**2)\n",
    "z2 = np.linspace(0, pi/2, 100)\n",
    "g2 = 1/np.cos(z2)**2 * np.exp(-np.tan(z2)**2)\n",
    "plt.figure(figsize=(4, 3))\n",
    "plt.plot(pi/2*z,g*2/pi, label='g(z) for z/(1-z)')  # to make comparison easier, we elongate the domain [0,1] to [0, pi/2], and instead shrink the value by 2/pi times\n",
    "plt.plot(z2, g2, label='g(z) for tan(z)')\n",
    "plt.legend()\n",
    "plt.show()"
   ]
  },
  {
   "cell_type": "markdown",
   "id": "2fead343-1ea4-4f89-88f4-986aa354bf7e",
   "metadata": {},
   "source": [
    "We see that in the case of $x=z/(1-z)$ the integrand first increases and then decreases, while in the case of $x=\\tan(z)$ the integrand monotonically decreases.  \n",
    "(The original integrand $\\exp(-x^2)$ is a monotonically decreasing function, but the multiplication of the integral density $1/(1-z)^2$ and $1/\\cos^2(z)$ gives different behavior for the two cases.)"
   ]
  },
  {
   "cell_type": "markdown",
   "id": "98736eac-4a19-4cd8-97cf-4c2d0f998189",
   "metadata": {},
   "source": [
    "Although I cannot find any clear reasons for the difference in numerical accuracy of $I=\\int_0^\\infty dx~e^{-x^2}$ for the two cases using $x=z/(1-z)$ and using$x=\\tan(z)$,  my guesses are as follows.\n",
    " - Difference in accumulation of errors: As seen above, the integrand in the case of $x=z/(1-z)$ first increases and then decreases, while in the case of $x=\\tan(z)$ monotonically decreases.  Accumulation of error might be stronger if an integrand is a monotonically increasing or decreasing function.\n",
    " - Error in trigonometric function:  Numerical accuracy of trigonometric functions such as $\\sin, \\cos, \\tan$ may be worse than rational functions such as $1/(1-z)$.  If this is the case, it would explain weird characteristics of the result in the case of $x=\\tan(z)$, that is, different integral formulas do not return substantially different result, and, increasing N does not improve the result.  They are because the numerical inaccuracy does not come from integration approximation formulas, but simply from using trigonometic functions.  Moreover, this (supposedly) error coming from trigonometric functions is greatly amplified by exponential function, like in $\\exp(-\\tan^2(z))$.   "
   ]
  },
  {
   "cell_type": "markdown",
   "id": "2d423030-2333-4dd2-94e7-87c7ca5caa74",
   "metadata": {},
   "source": [
    "I feel that the second guess is on the right track (even if the first guess is right, it will not be the main reason for numerical inaccuracy this time).  \n",
    "If it is right, the lesson is that __Avoid using trigonometric functions especially when they are inside exponential functions__."
   ]
  },
  {
   "cell_type": "markdown",
   "id": "8cbf3af0-b77c-4fe0-93ca-c2593cbddb08",
   "metadata": {},
   "source": [
    "TO DO : find some examples which support my guess (for example, use $x=\\tan(z)$ for some integrands which do not involve exponential functions).  "
   ]
  },
  {
   "cell_type": "code",
   "execution_count": 8,
   "id": "ad570508-514d-4351-9f4d-4c2f4944c0b2",
   "metadata": {},
   "outputs": [
    {
     "name": "stdout",
     "output_type": "stream",
     "text": [
      "0.99999999999999988898\n"
     ]
    }
   ],
   "source": [
    "print(f\"{tan(pi/4):.20f}\")"
   ]
  },
  {
   "cell_type": "markdown",
   "id": "79c5c627-6504-47d3-8802-228c62351c8d",
   "metadata": {},
   "source": [
    "Hmm... I said trigonometric functions may be inaccurate, but as long as this example it is fairly accurate..."
   ]
  },
  {
   "cell_type": "code",
   "execution_count": null,
   "id": "9cfd3485-32c6-47e1-98c0-386e20e849b4",
   "metadata": {},
   "outputs": [],
   "source": []
  }
 ],
 "metadata": {
  "kernelspec": {
   "display_name": "Python 3 (ipykernel)",
   "language": "python",
   "name": "python3"
  },
  "language_info": {
   "codemirror_mode": {
    "name": "ipython",
    "version": 3
   },
   "file_extension": ".py",
   "mimetype": "text/x-python",
   "name": "python",
   "nbconvert_exporter": "python",
   "pygments_lexer": "ipython3",
   "version": "3.10.1"
  }
 },
 "nbformat": 4,
 "nbformat_minor": 5
}
