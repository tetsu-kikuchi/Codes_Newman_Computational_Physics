{
 "cells": [
  {
   "cell_type": "markdown",
   "id": "d2a6719a-edf4-4723-a3c0-7636d28bf1d0",
   "metadata": {},
   "source": [
    "# Excercise 5.14 : Gravitational pull of a uniform sheet"
   ]
  },
  {
   "cell_type": "code",
   "execution_count": 1,
   "id": "f1a6c231-414e-464e-a058-3212141111e1",
   "metadata": {},
   "outputs": [],
   "source": [
    "import numpy as np\n",
    "import matplotlib.pyplot as plt\n",
    "from math import sqrt, pi\n",
    "from numba import jit\n",
    "\n",
    "from utils import gaussxw"
   ]
  },
  {
   "cell_type": "markdown",
   "id": "96dae0c7-7b7c-47ce-9bf3-cdf06e2eb7b6",
   "metadata": {},
   "source": [
    "## Setup\n",
    "A uniform and square sheet with sides of $L$ and with mass $M$ is fixed in a space.  Consider a point mass with mass $m$ a distance $z$ from the center of the sheet.  We take $x$ and $y$ axis in the sheet and $z$ axis perpendicular to the sheet.  The gravitational force felt by the point mass due to the sheet is in the $z$ direction, with the strength $F$ that is given by  \n",
    "$F = Gm\\sigma z I$, where $\\sigma=\\frac{M}{L^2}$ and $I=\\int_{-L/2}^{L/2}dx\\int_{-L/2}^{L/2}dy~\\frac{1}{(x^2+y^2+z^2)^{3/2}}$.  \n",
    "\n",
    "The value of the parameters are $G=6.674 \\times 10^{-11}[{\\rm m}^3 {\\rm kg}^{-1} {\\rm s}^{-2}], M=10^4[{\\rm kg}], L=10[{\\rm m}], m=1[{\\rm kg}]$.   "
   ]
  },
  {
   "cell_type": "markdown",
   "id": "2f7240c3-ef9e-49be-84f2-cc694bed997a",
   "metadata": {},
   "source": [
    "## Preliminary analysis at $z\\sim 0$  \n",
    "Before we perform numerical integration, let us analyze the asymptotic behavior of $F$ near $z\\sim0$.  \n",
    "\n",
    "When $z\\sim0$, it means that $L$ is effectively infinitely large.  So the discussion is the same as that is often done in the context of Electric field near a condenser plate: Using the Gauss' law, we can see that $F$ reaches some constant value at $z\\sim0$.  Let us derive this constant by using electrostatic problem as a counterpart.  In electrostatics, an electric field is given by $E=\\frac{1}{4\\pi\\varepsilon_0}\\frac{Q}{r^2}$.  Comparing this to the gravitational force $F=mG\\frac{M}{r^2}$, the correspondence is $\\frac{1}{4\\pi\\varepsilon_0}\\leftrightarrow G$.  The electric field near a condenser (or an infinitely large electrically charged sheet) is $E=\\frac{\\sigma}{2\\varepsilon_0}$ by using Gauss' law.  Therefore by using the correspondence $\\frac{1}{4\\pi\\varepsilon_0}\\leftrightarrow G$, the gravitational force approaches $F\\sim 2\\pi Gm\\sigma$ as $z\\sim 0$.  \n",
    "\n",
    "A rough explanation for why F reaches constant at $z\\sim 0$ is as follows.  The Gravitational force is proportional to $1/(x^2+y^2+z^2)$.  So near $x\\sim 0, y\\sim 0$, the force is inversely proportional to $z$.  But such area is limited by $x^2+y^2 \\lesssim z^2$.  Therefore, in this area the force is proportional to $1/z^2$, but the area is of the order of $z^2$, so by integration the net result is constant, $1/z^2 \\cdot z^2=1$, and the force reaches constant near $z\\sim 0$. (Within the area, the extra factor $z/\\sqrt{x^2+y^2+z^2}$ coming from the cosine is $\\mathcal O(1)$ and is not important.)     \n",
    "\n",
    "Another quantitative approach for the asymptotic behavior of $F$ near $z\\sim 0$ is as follows.  For simplicity, let us replace the square with length $L$ with a disc with its radius $R$.  This replacement will be valid to some extent, since the contribution to $F$ from area far away from $x=y=0$ will not be important when $z\\sim 0$, so the shape of the sheet will not matter.  Let $r^2=x^2+y^2$, then  \n",
    "$I = 2\\pi \\int_0^R dr\\frac{r}{(r^2+z^2)^{3/2}}=2\\pi\\left(\\frac{1}{z} - \\frac{1}{\\sqrt{z^2+R^2}}\\right)$.  Therefore, as $z\\sim0$, then $F\\sim 2\\pi Gm\\sigma$.  (The parameter $R$ which we fabricated disappears in the leading order in $z$.)"
   ]
  },
  {
   "cell_type": "markdown",
   "id": "dbb39d11-5230-46d7-bf0f-2d67300553de",
   "metadata": {},
   "source": [
    "## Task \n",
    "1. Plot $F$ as a function of $z$ from $z=0$ to $z=10[{\\rm m}]$.  (Use Gaussian quadrature with 100 sample points along each axis.)\n",
    "2. Check if there are any artifacts in the result.  If it exists, explain briefly where the artifact comes from and suggest a strategy to remove it, or at least to decrease its size."
   ]
  },
  {
   "cell_type": "code",
   "execution_count": 2,
   "id": "33012f30-31a1-4756-94e2-fb8b315e7516",
   "metadata": {},
   "outputs": [
    {
     "name": "stdout",
     "output_type": "stream",
     "text": [
      "F_at_zero: 4.1933978740116554e-08\n"
     ]
    },
    {
     "data": {
      "image/png": "[encoded data removed]",
      "text/plain": [
       "<Figure size 400x300 with 1 Axes>"
      ]
     },
     "metadata": {},
     "output_type": "display_data"
    }
   ],
   "source": [
    "def f(x,y,z):\n",
    "    assert x*y*z != 0\n",
    "    return 1/sqrt(x*x + y*y + z*z)**3\n",
    "\n",
    "def calc_I(f, z, sample_pts_w):\n",
    "    x, wx, y, wy = sample_pts_w\n",
    "    assert len(x)==len(wx)==len(y)==len(wy)\n",
    "    N = len(x)\n",
    "    result = 0.\n",
    "    for i in range(N):\n",
    "        for j in range(N):\n",
    "            result += wx[i]*wy[j]*f(x[i], y[j], z)\n",
    "    return float(result)\n",
    "\n",
    "G = 6.674e-11\n",
    "M = 1e4\n",
    "L = 10\n",
    "sigma = M/L**2\n",
    "m = 1\n",
    "\n",
    "N=100\n",
    "x, wx = gaussxw.gaussxwab(N, -L/2, L/2)\n",
    "y, wy = x, wx #gaussxw.gaussxwab(N, -L/2, L/2)\n",
    "sample_pts_w = (x, wx, y, wy)\n",
    "\n",
    "zmin = 1e-2  # minimum value of z to plot F\n",
    "z_vals = np.linspace(zmin, 10, 100)\n",
    "F_vals = []\n",
    "for z in z_vals:\n",
    "    Ival = calc_I(f, z, sample_pts_w)\n",
    "    Fval = G*m*sigma*z*Ival   # unit : Newton (=kg m s-2)  \n",
    "    F_vals.append(Fval)\n",
    "F_vals = np.array(F_vals)\n",
    "assert len(z_vals) == len(F_vals)\n",
    "\n",
    "F_at_zero = 2*pi*G*m*sigma\n",
    "print(\"F_at_zero:\", F_at_zero)\n",
    "\n",
    "plt.figure(figsize=(4, 3))\n",
    "plt.plot(z_vals, F_vals)\n",
    "plt.plot(z_vals, F_at_zero*np.ones_like(F_vals), color='black', linestyle='--')\n",
    "plt.show()"
   ]
  },
  {
   "cell_type": "markdown",
   "id": "3142d6c3-4099-4ee7-9d38-9179b0ea1fe7",
   "metadata": {},
   "source": [
    "### Artifact\n",
    "\n",
    "Although $F$ is expected to remain constant at $z\\sim 0$, the plot shows a drop at that point.  This drop is an artifact resulting from the following reason.  \n",
    "\n",
    "The integrand of $I$, that is, $\\frac{1}{(x^2+y^2+z^2)^{3/2}}$, has a peak in the region satisfying $x^2+y^2\\lesssim z^2$, and almost zero outside that region.  So, if the sampling points of Gaussian quadrature do not pick up this region,  the integration will not be accurate and returns almost zero value.  \n",
    "\n",
    "In fact, the sampling points at N=100 are as follows:"
   ]
  },
  {
   "cell_type": "code",
   "execution_count": 3,
   "id": "0db285e9-32d1-49dc-a4b7-e590c347b15e",
   "metadata": {},
   "outputs": [
    {
     "name": "stdout",
     "output_type": "stream",
     "text": [
      "[ 4.99856863  4.99245975  4.98147567  4.96562469  4.94492198  4.9193877\n",
      "  4.88904679  4.85392888  4.81406827  4.76950391  4.72027935  4.66644268\n",
      "  4.60804649  4.54514785  4.47780822  4.4060934   4.33007344  4.24982264\n",
      "  4.1654194   4.07694619  3.98448946  3.88813955  3.78799059  3.68414045\n",
      "  3.57669059  3.465746    3.35141508  3.23380954  3.1130443   2.98923735\n",
      "  2.86250966  2.73298506  2.6007901   2.46605395  2.32890825  2.18948701\n",
      "  2.04792646  1.90436491  1.75894263  1.61180172  1.46308594  1.3129406\n",
      "  1.16151241  1.00894932  0.8554004   0.70101569  0.54594602  0.39034291\n",
      "  0.23435841  0.07814492 -0.07814492 -0.23435841 -0.39034291 -0.54594602\n",
      " -0.70101569 -0.8554004  -1.00894932 -1.16151241 -1.3129406  -1.46308594\n",
      " -1.61180172 -1.75894263 -1.90436491 -2.04792646 -2.18948701 -2.32890825\n",
      " -2.46605395 -2.6007901  -2.73298506 -2.86250966 -2.98923735 -3.1130443\n",
      " -3.23380954 -3.35141508 -3.465746   -3.57669059 -3.68414045 -3.78799059\n",
      " -3.88813955 -3.98448946 -4.07694619 -4.1654194  -4.24982264 -4.33007344\n",
      " -4.4060934  -4.47780822 -4.54514785 -4.60804649 -4.66644268 -4.72027935\n",
      " -4.76950391 -4.81406827 -4.85392888 -4.88904679 -4.9193877  -4.94492198\n",
      " -4.96562469 -4.98147567 -4.99245975 -4.99856863]\n"
     ]
    }
   ],
   "source": [
    "N=100\n",
    "x, wx = gaussxw.gaussxwab(N, -L/2, L/2)\n",
    "print(x)"
   ]
  },
  {
   "cell_type": "markdown",
   "id": "ccf89e9f-53aa-4425-b0b0-160fa235b980",
   "metadata": {},
   "source": [
    "We see that the sampling points closest to $x=0$ is -0.07814492 or 0.07814492.  So, for example when $z=0.01$, the sharp peak of the integrand cannot be seen by any of the sampling points.  "
   ]
  },
  {
   "cell_type": "markdown",
   "id": "61f95856-9f17-4f06-a107-43d40a71a546",
   "metadata": {},
   "source": [
    "### How to solve the artifact  \n",
    "There will be many ways to solve this artifact.  Here, we take a simple and makeshift way: for z below some threshold, we increase the number of sampling points, so that the sharp peak of the integrand can be well picked up by the sampling points.  \n",
    "\n",
    "What value shold be set for the threshold?  We require that the sampling point closest to 0, that is, 0.07814492, should be well-included in the peak of the integrand.  We define \"well-included in the peak\" for the sampling point as being within one-third of the peak's standard deviation. We estimate the standard deviation of the peak roughly as $z$.  In these settings, the sampling point 0.07814492 is not well-included in the peak when $z$ is below $0.07814492\\times 3$.  So we set the value of the threshold as $z_{\\rm threshold} = 0.07814492\\times 3$.  \n",
    "\n",
    "Next, what value should be set for the increased sampling point $N$ when $z$ is below the threshold $z_{\\rm threshold}$ ?  We have set the minimum $z$ to plot $F$ as $z_{\\rm min}=0.01$.  In order for the sampling point closest to 0 is well-included in the peak with its standard deviation is 0.01, the sampling point must lie within $0.01/3$.  Let us see the sampling point closest to 0 fo several N:"
   ]
  },
  {
   "cell_type": "code",
   "execution_count": 4,
   "id": "2384a9c0-9f4d-47d0-993a-350810163970",
   "metadata": {},
   "outputs": [
    {
     "name": "stdout",
     "output_type": "stream",
     "text": [
      "0.07814492210771543\n",
      "0.007850052400415967\n",
      "0.0007853588912417372\n"
     ]
    }
   ],
   "source": [
    "for N in [10**2, 10**3, 10**4]:\n",
    "    x, wx = gaussxw.gaussxwab(N, -L/2, L/2)\n",
    "    print(np.min(np.abs(x)))"
   ]
  },
  {
   "cell_type": "markdown",
   "id": "eed6428a-fdd2-4509-8dfe-420432de6aff",
   "metadata": {},
   "source": [
    "Therefore, we take $N=10^4$ as the new number of sampling points when $z<z_{\\rm threshold}$, since 0.0007853588912417372 < 0.01/3.  "
   ]
  },
  {
   "cell_type": "code",
   "execution_count": 5,
   "id": "2f4151bf-9a30-46bf-9c98-c983eeb6ddc6",
   "metadata": {},
   "outputs": [
    {
     "name": "stdout",
     "output_type": "stream",
     "text": [
      "F_at_zero: 4.1933978740116554e-08\n"
     ]
    },
    {
     "data": {
      "image/png": "[encoded data removed]",
      "text/plain": [
       "<Figure size 400x300 with 1 Axes>"
      ]
     },
     "metadata": {},
     "output_type": "display_data"
    }
   ],
   "source": [
    "@jit(nopython=True)\n",
    "def f(x,y,z):\n",
    "    assert x*y*z != 0\n",
    "    return 1/sqrt(x*x + y*y + z*z)**3\n",
    "\n",
    "@jit(nopython=True)\n",
    "def calc_I(f, z, sample_pts_w):\n",
    "    x, wx, y, wy = sample_pts_w\n",
    "    assert len(x)==len(wx)==len(y)==len(wy)\n",
    "    N = len(x)\n",
    "    result = 0.\n",
    "    for i in range(N):\n",
    "        for j in range(N):\n",
    "            result += wx[i]*wy[j]*f(x[i], y[j], z)\n",
    "    return float(result)\n",
    "\n",
    "G = 6.674e-11\n",
    "M = 1e4\n",
    "L = 10\n",
    "sigma = M/L**2\n",
    "m = 1\n",
    "\n",
    "N=100\n",
    "x, wx = gaussxw.gaussxwab(N, -L/2, L/2)\n",
    "y, wy = x, wx \n",
    "sample_pts_w_100 = (x, wx, y, wy)\n",
    "\n",
    "N=10000\n",
    "x, wx = gaussxw.gaussxwab(N, -L/2, L/2)\n",
    "y, wy = x, wx \n",
    "sample_pts_w_10000 = (x, wx, y, wy)\n",
    "\n",
    "zmin = 1e-2 # minimum value of z to plot F\n",
    "z_threshold = 0.07814492 * 3.  # threshold to switch to N=10**4\n",
    "z_vals = np.linspace(zmin, 10, 100)\n",
    "F_vals = []\n",
    "for z in z_vals:\n",
    "    if z<z_threshold:\n",
    "        Ival = calc_I(f, z, sample_pts_w_10000)\n",
    "    else:\n",
    "        Ival = calc_I(f, z, sample_pts_w_100)\n",
    "    Fval = G*m*sigma*z*Ival   # unit : Newton (=kg m s-2)  \n",
    "    F_vals.append(Fval)\n",
    "F_vals = np.array(F_vals)\n",
    "assert len(z_vals) == len(F_vals)\n",
    "\n",
    "F_at_zero = 2*pi*G*m*sigma\n",
    "print(\"F_at_zero:\", F_at_zero)\n",
    "\n",
    "plt.figure(figsize=(4, 3))\n",
    "plt.plot(z_vals, F_vals)\n",
    "plt.plot(z_vals, F_at_zero*np.ones_like(F_vals), color='black', linestyle='--')\n",
    "plt.show()"
   ]
  },
  {
   "cell_type": "markdown",
   "id": "ee9fcc8b-8404-4600-9e21-4ad825025c80",
   "metadata": {},
   "source": [
    "Thus the artifact vanishes and $F$ successfully appoaches the theoretically expected value at $z\\sim 0$.  "
   ]
  },
  {
   "cell_type": "markdown",
   "id": "7bd92887-3333-4314-af74-b70d59a7fe8c",
   "metadata": {},
   "source": [
    "In the code above, we put @numba.jit(nopython=True) to speed up the for-loop for $N=10^4$, otherwize it will take a day for the computation.    nopython=True means that we do not use the Python interpreter in any part of the function. "
   ]
  },
  {
   "cell_type": "code",
   "execution_count": null,
   "id": "bcb0f6c0-43bf-4ce6-b09d-1ed3e1e731f8",
   "metadata": {},
   "outputs": [],
   "source": []
  }
 ],
 "metadata": {
  "kernelspec": {
   "display_name": "Python 3 (ipykernel)",
   "language": "python",
   "name": "python3"
  },
  "language_info": {
   "codemirror_mode": {
    "name": "ipython",
    "version": 3
   },
   "file_extension": ".py",
   "mimetype": "text/x-python",
   "name": "python",
   "nbconvert_exporter": "python",
   "pygments_lexer": "ipython3",
   "version": "3.10.1"
  }
 },
 "nbformat": 4,
 "nbformat_minor": 5
}
