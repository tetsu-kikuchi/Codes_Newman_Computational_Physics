{
 "cells": [
  {
   "cell_type": "code",
   "execution_count": 1,
   "id": "ca67126d-0add-4684-ab8e-2b7d48ee967f",
   "metadata": {},
   "outputs": [
    {
     "data": {
      "text/html": [
       "<div id=\"glowscript\" class=\"glowscript\"></div>"
      ],
      "text/plain": [
       "<IPython.core.display.HTML object>"
      ]
     },
     "metadata": {},
     "output_type": "display_data"
    },
    {
     "data": {
      "application/javascript": [
       "if (typeof Jupyter !== \"undefined\") { window.__context = { glowscript_container: $(\"#glowscript\").removeAttr(\"id\")};}else{ element.textContent = ' ';}"
      ],
      "text/plain": [
       "<IPython.core.display.Javascript object>"
      ]
     },
     "metadata": {},
     "output_type": "display_data"
    }
   ],
   "source": [
    "from vpython import sphere, color, vector  # the library \"visual\" seems to be no longer supported"
   ]
  },
  {
   "cell_type": "code",
   "execution_count": 2,
   "id": "b761c15b-1081-48dc-a1a1-e74b4aeea055",
   "metadata": {},
   "outputs": [],
   "source": [
    "sphere()"
   ]
  },
  {
   "cell_type": "code",
   "execution_count": 3,
   "id": "4f5d8f27-42cc-4bda-8664-117eff9d8435",
   "metadata": {},
   "outputs": [],
   "source": [
    "sphere(radius=0.5, pos=vector(1.0,-0.2,0.0), color=color.red)"
   ]
  },
  {
   "cell_type": "code",
   "execution_count": 4,
   "id": "f1a18861-8f96-4362-b9af-25aeba49d4b2",
   "metadata": {},
   "outputs": [],
   "source": [
    "L=5\n",
    "R=0.3\n",
    "for x in range(-L, L+1):\n",
    "    for y in range(-L, L+1):\n",
    "        for z in range(-L, L+1):\n",
    "            sphere(radius=R, pos=vector(x,y,z), color=color.blue)"
   ]
  },
  {
   "cell_type": "code",
   "execution_count": null,
   "id": "c10b19ed-cff3-44d0-a973-f862b7968963",
   "metadata": {},
   "outputs": [],
   "source": []
  }
 ],
 "metadata": {
  "kernelspec": {
   "display_name": "Python 3 (ipykernel)",
   "language": "python",
   "name": "python3"
  },
  "language_info": {
   "codemirror_mode": {
    "name": "ipython",
    "version": 3
   },
   "file_extension": ".py",
   "mimetype": "text/x-python",
   "name": "python",
   "nbconvert_exporter": "python",
   "pygments_lexer": "ipython3",
   "version": "3.10.1"
  }
 },
 "nbformat": 4,
 "nbformat_minor": 5
}
