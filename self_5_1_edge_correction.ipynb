{
 "cells": [
  {
   "cell_type": "markdown",
   "id": "f420cb98-4597-4442-b10d-73b7d175273f",
   "metadata": {},
   "source": [
    "# Self-Learning 5.1 : Improving integral accuracy by \"edge correction\""
   ]
  },
  {
   "cell_type": "markdown",
   "id": "3b13ef71-57f2-4b09-af8c-e9adcbc53a9a",
   "metadata": {},
   "source": [
    "## Motivation  \n",
    "\n",
    "Consider an integral \n",
    "$I(a,b) = \\int_a^b dx f(x)$.  \n",
    "We discretize the integration domain into N parts:  \n",
    "$x_0=a, x_1=a+h, \\dots, x_k=a+kh, \\dots, x_N=b$ with $h=(b-a)/N$.  \n",
    "\n",
    "The most naive formula is approximating the integral by sum of rectangles,  \n",
    "$I_{\\rm rec} \\equiv h\\sum_{k=1}^N f(x_k)$.  \n",
    "Using trapezoids instead of rectangles generally improves the accuracy, and the trapezoid method turns out to simply add edge values to $I_{\\rm rec}$,  \n",
    "$I_{\\rm tra} \\equiv I_{\\rm rec} - \\frac{1}{2}h(f(b)-f(a))$.  \n",
    "The analysis given in the textbook shows that the error of $I_{\\rm tra}$ (i.e. its difference from the true value $I(a,b)$) is $\\mathcal O(h^2)$,  \n",
    "$I(a,b) = I_{\\rm tra} + \\mathcal O(h^2)$.  \n",
    "Adding the Euler-Maclaurin term to $I_{\\rm tra}$,  \n",
    "$I_{\\rm em} \\equiv I_{\\rm tra} + \\frac{1}{12}h^2(f'(b)-f'(a))$,  \n",
    "further reduces the error to $\\mathcal O(h^4)$, that is,  \n",
    "$I(a,b) = I_{\\rm em} + \\mathcal O(h^4)$. \n",
    "\n",
    "I felt the fact above somewhat mysterious;  integration is inherently a __bulk__ operation ― it measures the area under the curve $f(x)$ between a and b.  But the fact above says that we can reduce the error of this bulk quantity by adding __edge__ values, f(a), f(b), f'(a), f'(b) and so on. \n",
    "\n",
    "Is that true?  \n",
    "\n",
    "## Task  \n",
    "\n",
    "Numerically calculate each of $I_{\\rm rec}, I_{\\rm tra}, I_{\\rm em}$ for various integrations, and check if  \n",
    " - the accuracy improves in the order of $I_{\\rm rec}, I_{\\rm tra}, I_{\\rm em}$\n",
    " - the errors of $I_{\\rm tra}$ and $I_{\\rm em}$ are $\\mathcal O(h^2)$ and $\\mathcal O(h^4)$, respectively.\n",
    " - by decreasing the step size $h$ to, say $h/2$, the error reduces by 1/4 and 1/16 for $I_{\\rm tra}$ and $I_{\\rm em}$, respectively"
   ]
  },
  {
   "cell_type": "code",
   "execution_count": 1,
   "id": "568f37ef-ffde-4cbe-a17b-e99a4bf46406",
   "metadata": {},
   "outputs": [],
   "source": [
    "import math"
   ]
  },
  {
   "cell_type": "code",
   "execution_count": 2,
   "id": "66be8b06-0697-49b9-bce4-ed4f37cf12c5",
   "metadata": {},
   "outputs": [],
   "source": [
    "def calculate_integral(f, df, a, b, N, method):\n",
    "    \"\"\"\n",
    "    Returns integral value of a function f (with its derivative function df) from a to b.  \n",
    "    N represents the number of division of the integral domain [a, b]\n",
    "    \"method\" is a string selecting a integration method from \"rectangle\", \"trapezoid\", \"euler-maclaurin\" \n",
    "    \"\"\"\n",
    "    assert a<b\n",
    "    assert method in [\"rectangle\", \"trapezoid\", \"euler-maclaurin\"]\n",
    "    \n",
    "    h = (b-a)/N\n",
    "    \n",
    "    result = 0.\n",
    "    for k in range(1,N+1):\n",
    "        x_k = a + h*k\n",
    "        result += h*f(x_k)\n",
    "    if method == \"rectangle\":\n",
    "        return result\n",
    "    result += 0.5*h*(f(a) - f(b))  # trapezoid\n",
    "    if method == \"trapezoid\":\n",
    "        return result\n",
    "    result += 1/12*h*h*(df(a) - df(b))  # euler-maclaurin\n",
    "    return result\n",
    "\n",
    "def print_result(f, df, a, b, true_value, N):\n",
    "    \"\"\"\n",
    "    this is a wrapper of def calculate_integral\n",
    "    true_value is the analytical result of the integral you should perform by hand beforehand.\n",
    "    For each of method of \"rectangle\", \"trapezoid\", \"euler-maclaurin\", \n",
    "    this function prints \n",
    "       the numerically calculated integral value\n",
    "       the error (i.e. the absolute difference from the true_value)\n",
    "       the order of the error, i.e., log_h(the error)\n",
    "    \"\"\"\n",
    "    print(f\"true_value:{true_value}\")\n",
    "    h = (b-a)/N\n",
    "    for method in [\"rectangle\", \"trapezoid\", \"euler-maclaurin\"]:\n",
    "        integral = calculate_integral(f, df, a, b, N, method=method)\n",
    "        error = abs(integral - true_value)\n",
    "        error_order = math.log(error, h)\n",
    "\n",
    "        integral_2 = calculate_integral(f, df, a, b, 2*N, method=method)\n",
    "        error_2 = abs(integral_2 - true_value)\n",
    "        alpha = math.log(error/error_2, 2)\n",
    "        \n",
    "        space = \"\"\n",
    "        if method in [\"rectangle\", \"trapezoid\"]:\n",
    "            space += \" \"*(len(\"euler-maclaurin\") - len(\"rectangle\"))  # just to align printing\n",
    "        print(f\"method:{method},{space} integral:{integral:.10f}, error:{error:.20f}, error_order:{error_order:.2f}, error_change_rate:{alpha:.4f}\")"
   ]
  },
  {
   "cell_type": "markdown",
   "id": "e9f05297-369d-404d-a930-11cbe5365adc",
   "metadata": {},
   "source": [
    "$\\int_0^2 dx (x^4 - 2x + 1) = \\frac{22}{5}$  "
   ]
  },
  {
   "cell_type": "code",
   "execution_count": 3,
   "id": "2ebebe58-de79-4b97-9e6e-ce0c009503a2",
   "metadata": {},
   "outputs": [
    {
     "name": "stdout",
     "output_type": "stream",
     "text": [
      "true_value:4.4\n",
      "method:rectangle,       integral:4.5210666560, error:0.12106665599999910654, error_order:0.54, error_change_rate:1.0064\n",
      "method:trapezoid,       integral:4.4010666560, error:0.00106665599999899996, error_order:1.75, error_change_rate:2.0000\n",
      "method:euler-maclaurin, integral:4.3999999893, error:0.00000001066666754923, error_order:4.69, error_change_rate:4.0000\n"
     ]
    }
   ],
   "source": [
    "print_result(lambda x:x**4-2*x+1, lambda x:4*x**3-2, a=0, b=2, true_value=22/5, N=100)"
   ]
  },
  {
   "cell_type": "code",
   "execution_count": 4,
   "id": "34ffb6cc-00f5-4a10-8038-b5886d89d098",
   "metadata": {},
   "outputs": [
    {
     "name": "stdout",
     "output_type": "stream",
     "text": [
      "true_value:4.4\n",
      "method:rectangle,       integral:4.4120106667, error:0.01201066666559835738, error_order:0.71, error_change_rate:1.0006\n",
      "method:trapezoid,       integral:4.4000106667, error:0.00001066666559879081, error_order:1.84, error_change_rate:2.0000\n",
      "method:euler-maclaurin, integral:4.4000000000, error:0.00000000000106759046, error_order:4.44, error_change_rate:4.0613\n"
     ]
    }
   ],
   "source": [
    "print_result(lambda x:x**4-2*x+1, lambda x:4*x**3-2, a=0, b=2, true_value=22/5, N=1000)  # changed N to 1000"
   ]
  },
  {
   "cell_type": "markdown",
   "id": "d33ce380-a260-4786-884e-09391e72a040",
   "metadata": {},
   "source": [
    "$\\int_0^{\\pi/2} dx \\sin x = 1$  "
   ]
  },
  {
   "cell_type": "code",
   "execution_count": 5,
   "id": "a1e47006-6e5a-4e7c-8195-85548a1b10bf",
   "metadata": {},
   "outputs": [
    {
     "name": "stdout",
     "output_type": "stream",
     "text": [
      "true_value:1.0\n",
      "method:rectangle,       integral:1.0078334199, error:0.00783341987358232572, error_order:1.17, error_change_rate:0.9981\n",
      "method:trapezoid,       integral:0.9999794382, error:0.00002056176039211266, error_order:2.60, error_change_rate:2.0000\n",
      "method:euler-maclaurin, integral:0.9999999999, error:0.00000000008455647293, error_order:5.58, error_change_rate:3.9999\n"
     ]
    }
   ],
   "source": [
    "print_result(lambda x:math.sin(x), lambda x:math.cos(x), a=0, b=math.pi/2, true_value=1., N=100)"
   ]
  },
  {
   "cell_type": "code",
   "execution_count": 6,
   "id": "1d551e04-8737-4823-9468-4772963e0efa",
   "metadata": {},
   "outputs": [
    {
     "name": "stdout",
     "output_type": "stream",
     "text": [
      "true_value:1.0\n",
      "method:rectangle,       integral:1.0007851925, error:0.00078519254663111937, error_order:1.11, error_change_rate:0.9998\n",
      "method:trapezoid,       integral:0.9999997944, error:0.00000020561676628006, error_order:2.38, error_change_rate:2.0000\n",
      "method:euler-maclaurin, integral:1.0000000000, error:0.00000000000000788258, error_order:5.03, error_change_rate:2.8278\n"
     ]
    }
   ],
   "source": [
    "print_result(lambda x:math.sin(x), lambda x:math.cos(x), a=0, b=math.pi/2, true_value=1., N=1000)  # changed N to 1000"
   ]
  },
  {
   "cell_type": "markdown",
   "id": "142a2114-ea45-4b7d-b734-a2045c3dde0a",
   "metadata": {},
   "source": [
    "$\\int_0^{\\pi} dx \\sin x = 2$ "
   ]
  },
  {
   "cell_type": "code",
   "execution_count": 7,
   "id": "e4372e63-5feb-42c8-968f-50b2ac784ff1",
   "metadata": {},
   "outputs": [
    {
     "name": "stdout",
     "output_type": "stream",
     "text": [
      "true_value:2.0\n",
      "method:rectangle,       integral:1.9998355039, error:0.00016449611255642260, error_order:2.52, error_change_rate:2.0000\n",
      "method:trapezoid,       integral:1.9998355039, error:0.00016449611255642260, error_order:2.52, error_change_rate:2.0000\n",
      "method:euler-maclaurin, integral:1.9999999973, error:0.00000000270587152684, error_order:5.70, error_change_rate:4.0000\n"
     ]
    }
   ],
   "source": [
    "print_result(lambda x:math.sin(x), lambda x:math.cos(x), a=0, b=math.pi, true_value=2., N=100)"
   ]
  },
  {
   "cell_type": "code",
   "execution_count": 8,
   "id": "e96c0f6a-2452-4078-a2f4-495da7d9bbc5",
   "metadata": {},
   "outputs": [
    {
     "name": "stdout",
     "output_type": "stream",
     "text": [
      "true_value:2.0\n",
      "method:rectangle,       integral:1.9999983551, error:0.00000164493433629787, error_order:2.31, error_change_rate:2.0000\n",
      "method:trapezoid,       integral:1.9999983551, error:0.00000164493433629787, error_order:2.31, error_change_rate:2.0000\n",
      "method:euler-maclaurin, integral:2.0000000000, error:0.00000000000026934011, error_order:5.02, error_change_rate:4.0349\n"
     ]
    }
   ],
   "source": [
    "print_result(lambda x:math.sin(x), lambda x:math.cos(x), a=0, b=math.pi, true_value=2., N=1000) # changed N to 1000"
   ]
  },
  {
   "cell_type": "markdown",
   "id": "a418c346-7b95-4190-ab89-b2f0ab463ea0",
   "metadata": {},
   "source": [
    "$\\int_1^3 dx \\frac{1}{x} = \\log 3$"
   ]
  },
  {
   "cell_type": "code",
   "execution_count": 9,
   "id": "72f1ac9d-f36e-404f-910e-c8f95c096f5a",
   "metadata": {},
   "outputs": [
    {
     "name": "stdout",
     "output_type": "stream",
     "text": [
      "true_value:1.0986122886681098\n",
      "method:rectangle,       integral:1.0919752503, error:0.00663703835365647699, error_order:1.28, error_change_rate:0.9968\n",
      "method:trapezoid,       integral:1.0986419170, error:0.00002962831301012159, error_order:2.67, error_change_rate:2.0000\n",
      "method:euler-maclaurin, integral:1.0986122874, error:0.00000000131661948011, error_order:5.23, error_change_rate:3.9998\n"
     ]
    }
   ],
   "source": [
    "print_result(lambda x:1/x, lambda x:-1/(x*x), a=1, b=3, true_value=math.log(3), N=100)"
   ]
  },
  {
   "cell_type": "code",
   "execution_count": 10,
   "id": "d2d07c41-433f-4052-a82a-3720ebebe748",
   "metadata": {},
   "outputs": [
    {
     "name": "stdout",
     "output_type": "stream",
     "text": [
      "true_value:1.0986122886681098\n",
      "method:rectangle,       integral:1.0979459183, error:0.00066637037050254477, error_order:1.18, error_change_rate:0.9997\n",
      "method:trapezoid,       integral:1.0986125850, error:0.00000029629616404847, error_order:2.42, error_change_rate:2.0000\n",
      "method:euler-maclaurin, integral:1.0986122887, error:0.00000000000013233858, error_order:4.77, error_change_rate:3.9338\n"
     ]
    }
   ],
   "source": [
    "print_result(lambda x:1/x, lambda x:-1/(x*x), a=1, b=3, true_value=math.log(3), N=1000) # changed N to 1000"
   ]
  },
  {
   "cell_type": "markdown",
   "id": "67a776c6-97b9-4609-bc0b-024e7bbca766",
   "metadata": {},
   "source": [
    "$\\int_1^{100} dx \\frac{1}{x} = \\log 100$"
   ]
  },
  {
   "cell_type": "code",
   "execution_count": 11,
   "id": "c0d039d0-57ec-42fb-9049-e157e34f6017",
   "metadata": {},
   "outputs": [
    {
     "name": "stdout",
     "output_type": "stream",
     "text": [
      "true_value:4.605170185988092\n",
      "method:rectangle,       integral:4.5569810575, error:0.04818912847341216832, error_order:1.31, error_change_rate:0.9878\n",
      "method:trapezoid,       integral:4.6059860575, error:0.00081587152658801898, error_order:3.07, error_change_rate:1.9989\n",
      "method:euler-maclaurin, integral:4.6051693892, error:0.00000079679841213931, error_order:6.07, error_change_rate:3.9950\n"
     ]
    }
   ],
   "source": [
    "print_result(lambda x:1/x, lambda x:-1/(x*x), a=1, b=100, true_value=math.log(100), N=1000)  # note N=1000"
   ]
  },
  {
   "cell_type": "code",
   "execution_count": 12,
   "id": "13da7f87-51d0-4a69-a76c-a8062c759b45",
   "metadata": {},
   "outputs": [
    {
     "name": "stdout",
     "output_type": "stream",
     "text": [
      "true_value:4.605170185988092\n",
      "method:rectangle,       integral:4.6002778526, error:0.00489233339678563084, error_order:1.15, error_change_rate:0.9988\n",
      "method:trapezoid,       integral:4.6051783526, error:0.00000816660321412144, error_order:2.54, error_change_rate:2.0000\n",
      "method:euler-maclaurin, integral:4.6051701859, error:0.00000000008003553376, error_order:5.04, error_change_rate:3.9931\n"
     ]
    }
   ],
   "source": [
    "print_result(lambda x:1/x, lambda x:-1/(x*x), a=1, b=100, true_value=math.log(100), N=10000)  # changed N to 1e4"
   ]
  },
  {
   "cell_type": "markdown",
   "id": "7151b694-e2fd-4d2d-8f9f-d5bde2c52a60",
   "metadata": {},
   "source": [
    "$\\int_0^3 dx e^x = e^3-1$"
   ]
  },
  {
   "cell_type": "code",
   "execution_count": 13,
   "id": "6d6d786d-0e81-42e8-9ba4-0dcc1f329233",
   "metadata": {},
   "outputs": [
    {
     "name": "stdout",
     "output_type": "stream",
     "text": [
      "true_value:19.085536923187668\n",
      "method:rectangle,       integral:19.3732513708, error:0.28771444764628384405, error_order:0.36, error_change_rate:1.0036\n",
      "method:trapezoid,       integral:19.0869683170, error:0.00143139379846957127, error_order:1.87, error_change_rate:2.0000\n",
      "method:euler-maclaurin, integral:19.0855369017, error:0.00000002147076827441, error_order:5.04, error_change_rate:4.0000\n"
     ]
    }
   ],
   "source": [
    "print_result(lambda x:math.exp(x), lambda x:math.exp(x), a=0, b=3, true_value=math.exp(3)-1, N=100)"
   ]
  },
  {
   "cell_type": "code",
   "execution_count": 14,
   "id": "041f73fd-9b29-4a96-83b5-b211fd3b3433",
   "metadata": {},
   "outputs": [
    {
     "name": "stdout",
     "output_type": "stream",
     "text": [
      "true_value:19.085536923187668\n",
      "method:rectangle,       integral:19.1141795427, error:0.02864261953530800042, error_order:0.61, error_change_rate:1.0004\n",
      "method:trapezoid,       integral:19.0855512373, error:0.00001431415052621787, error_order:1.92, error_change_rate:2.0000\n",
      "method:euler-maclaurin, integral:19.0855369232, error:0.00000000000216715534, error_order:4.62, error_change_rate:4.1234\n"
     ]
    }
   ],
   "source": [
    "print_result(lambda x:math.exp(x), lambda x:math.exp(x), a=0, b=3, true_value=math.exp(3)-1, N=1000)  # changed N to 1000"
   ]
  },
  {
   "cell_type": "markdown",
   "id": "ecbdc095-93fa-4ce2-acdb-b4fddde05ac1",
   "metadata": {},
   "source": [
    "__Oh...__  \n",
    "Althoug our test examples are rather simple and limited in number, \n",
    " - in every case the error decreases in the order of rectangle, trapezoid, euler-maclaurin.\n",
    " - The error of rectangle method is of the order 0.5-2, trapezoid 1.5-2.5, euler-maclaurin 4.5-5.5, which roughly matches the theoretical expectation.\n",
    " - Moreover, when we decrease the step size $h$ to $h/2$, the error reduces by about $2^0, 2^{-2}, 2^{-4}$ for rectangle, trapezoid, euler-maclaurin, respectively.\n",
    "   \n",
    "__Oh, my oh...__"
   ]
  },
  {
   "cell_type": "code",
   "execution_count": null,
   "id": "1659fd29-64d1-4ece-9db2-b7e6b691681a",
   "metadata": {},
   "outputs": [],
   "source": []
  }
 ],
 "metadata": {
  "kernelspec": {
   "display_name": "Python 3 (ipykernel)",
   "language": "python",
   "name": "python3"
  },
  "language_info": {
   "codemirror_mode": {
    "name": "ipython",
    "version": 3
   },
   "file_extension": ".py",
   "mimetype": "text/x-python",
   "name": "python",
   "nbconvert_exporter": "python",
   "pygments_lexer": "ipython3",
   "version": "3.10.1"
  }
 },
 "nbformat": 4,
 "nbformat_minor": 5
}
