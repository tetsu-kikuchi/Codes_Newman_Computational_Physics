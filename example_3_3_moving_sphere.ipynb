{
 "cells": [
  {
   "cell_type": "markdown",
   "id": "5473955e-bbcd-4ba1-84c3-2c7e1a395466",
   "metadata": {},
   "source": [
    "# Example 3.3 : A moving sphere"
   ]
  },
  {
   "cell_type": "code",
   "execution_count": null,
   "id": "0c67d9ca-29b7-45c2-a0fe-9794d80b2299",
   "metadata": {},
   "outputs": [],
   "source": [
    "from vpython import sphere, rate, vector, canvas, color, mag\n",
    "from math import cos,sin,pi \n",
    "import numpy as np"
   ]
  },
  {
   "cell_type": "code",
   "execution_count": null,
   "id": "dafdf05b-77b3-4093-a18c-755a4982ab13",
   "metadata": {},
   "outputs": [],
   "source": [
    "s = sphere(pos=vector(1,0,0), radius=0.1) \n",
    "for theta in np.arange(0,100*pi,0.1): \n",
    "    rate(30) \n",
    "    x = cos(theta) \n",
    "    y = sin(theta) \n",
    "    s.pos = vector(x,y,0)"
   ]
  },
  {
   "cell_type": "code",
   "execution_count": null,
   "id": "4a7050bb-157a-4ec8-924c-e372f23051f3",
   "metadata": {},
   "outputs": [],
   "source": [
    "sun = sphere(pos=vector(0,0,0), radius=0.5, color=color.yellow)\n",
    "earth = sphere(pos=vector(1,0,0), radius=0.1, color=color.blue, make_trail=True)\n",
    "\n",
    "G = 1  \n",
    "dt = 0.01\n",
    "v = vector(0, 1, 0)  \n",
    "\n",
    "while True:\n",
    "    rate(100)\n",
    "    r = earth.pos - sun.pos\n",
    "    a = -G * r / mag(r)**3\n",
    "    v += a * dt\n",
    "    earth.pos += v * dt"
   ]
  },
  {
   "cell_type": "markdown",
   "id": "819a311e-61a6-4c77-a2f0-4ca404af6087",
   "metadata": {},
   "source": [
    "Note:  \n",
    "Sometimes, a canvas of vpython will not appear (i.e., no animation is shown).  In my case, restarting the Kernel solved this problem.  "
   ]
  },
  {
   "cell_type": "code",
   "execution_count": null,
   "id": "7e96495c-a2ef-4fb0-97f6-05d688e280c0",
   "metadata": {},
   "outputs": [],
   "source": []
  }
 ],
 "metadata": {
  "kernelspec": {
   "display_name": "Python 3 (ipykernel)",
   "language": "python",
   "name": "python3"
  },
  "language_info": {
   "codemirror_mode": {
    "name": "ipython",
    "version": 3
   },
   "file_extension": ".py",
   "mimetype": "text/x-python",
   "name": "python",
   "nbconvert_exporter": "python",
   "pygments_lexer": "ipython3",
   "version": "3.10.1"
  }
 },
 "nbformat": 4,
 "nbformat_minor": 5
}
