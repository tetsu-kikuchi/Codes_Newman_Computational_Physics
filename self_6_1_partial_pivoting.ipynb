{
 "cells": [
  {
   "cell_type": "markdown",
   "id": "17bbadcc-7789-4891-a5f6-6f65d5e6b9ff",
   "metadata": {},
   "source": [
    "# Self-learning 6.1 : partial pivoting"
   ]
  },
  {
   "cell_type": "markdown",
   "id": "76d5bcdb-cdaa-4045-8060-4e37b290cf9e",
   "metadata": {},
   "source": [
    "## Motivation \n",
    "Partial pivoting is said to reduce rounding error (loss of significant digits) in Gaussian elimination.  This notebook aims to illustrate why, using an example.   "
   ]
  },
  {
   "cell_type": "markdown",
   "id": "4c9d32d0-317d-4a23-be60-51ff8a26d1b4",
   "metadata": {},
   "source": [
    "## Example  \n",
    "Let us consider an example \n",
    "$$\n",
    "\\begin{pmatrix}\n",
    "\\epsilon & 1 \\\\\n",
    "1 & 1\n",
    "\\end{pmatrix}\n",
    "\\begin{pmatrix}\n",
    "x \\\\\n",
    "y \n",
    "\\end{pmatrix} = \n",
    "\\begin{pmatrix}\n",
    "2 \\\\\n",
    "3 \n",
    "\\end{pmatrix} \n",
    "$$\n",
    "If $\\epsilon$ is zero, then $x=1$ and $y=2$.  In this note, we consider the case where $\\epsilon$ is a very small number.  In that case, $x$ and $y$ are numbers close to $1$ and $2$, respectively.    "
   ]
  },
  {
   "cell_type": "markdown",
   "id": "3dc524ab-fb85-46f8-8647-aaf6488e1d54",
   "metadata": {},
   "source": [
    "### Method 1: Inverse Matrix\n",
    "First, let us solve this equation by inverting the matrix: \n",
    "$$\n",
    "\\begin{pmatrix}\n",
    "x  \\\\\n",
    "y\n",
    "\\end{pmatrix}\n",
    " = \\frac{1}{1-\\epsilon}\\begin{pmatrix}\n",
    "-1 & 1 \\\\\n",
    "1 & -\\epsilon \n",
    "\\end{pmatrix} \n",
    "\\begin{pmatrix}\n",
    "2 \\\\\n",
    "3 \n",
    "\\end{pmatrix} = \\frac{1}{1-\\epsilon}\n",
    "\\begin{pmatrix}\n",
    "1 \\\\\n",
    "2-3\\epsilon \n",
    "\\end{pmatrix}\n",
    "$$\n",
    "No loss of significant digits happens in the process.  "
   ]
  },
  {
   "cell_type": "markdown",
   "id": "5708f1e0-4df9-4e55-978e-d8ddc076f88c",
   "metadata": {},
   "source": [
    "### Method 2: Gaussian elimination without partial pivoting  \n",
    "\n",
    "After Gaussian elimination, \n",
    "$$\n",
    "\\begin{pmatrix}\n",
    "1 & \\frac{1}{\\epsilon} \\\\\n",
    "0 & 1-\\frac{1}{\\epsilon}\n",
    "\\end{pmatrix}\n",
    "\\begin{pmatrix}\n",
    "x \\\\\n",
    "y \n",
    "\\end{pmatrix} = \n",
    "\\begin{pmatrix}\n",
    "\\frac{2}{\\epsilon} \\\\\n",
    "3-\\frac{2}{\\epsilon} \n",
    "\\end{pmatrix} \n",
    "$$\n",
    "Using the second row, we get $y=\\frac{1}{1-\\epsilon}(2-3\\epsilon)$.  At this stage, no loss of significant digits happens.  \n",
    "However, loss of significant digits happens in the back substitution process in the first row, where $x = \\frac{1}{\\epsilon}(2-y)$, since $y$ is almost equal to 2."
   ]
  },
  {
   "cell_type": "markdown",
   "id": "28cb1c74-0a5f-4b4c-9be3-17a58a004755",
   "metadata": {},
   "source": [
    "### Method 3: Gaussian elimination with partial pivoting  \n",
    "\n",
    "With partial pivoting, \n",
    "$$\n",
    "\\begin{pmatrix}\n",
    "1 & 1 \\\\\n",
    "\\epsilon & 1\n",
    "\\end{pmatrix}\n",
    "\\begin{pmatrix}\n",
    "x \\\\\n",
    "y \n",
    "\\end{pmatrix} = \n",
    "\\begin{pmatrix}\n",
    "3 \\\\\n",
    "2 \n",
    "\\end{pmatrix} \n",
    "$$\n",
    "Then, after Gaussian elimination, \n",
    "$$\n",
    "\\begin{pmatrix}\n",
    "1 & 1 \\\\\n",
    "0 & 1-\\epsilon\n",
    "\\end{pmatrix}\n",
    "\\begin{pmatrix}\n",
    "x \\\\\n",
    "y \n",
    "\\end{pmatrix} = \n",
    "\\begin{pmatrix}\n",
    "3 \\\\\n",
    "2-3\\epsilon \n",
    "\\end{pmatrix} \n",
    "$$\n",
    "Using the second row, we get $y=\\frac{1}{1-\\epsilon}(2-3\\epsilon)$, which is the same as in the case without partil pivoting, of course.  \n",
    "The difference from the case without partial pivoting comes in the back substitution process in the first row, where $x = 3-y$.  In this case, no loss of significant digits happens.  "
   ]
  },
  {
   "cell_type": "markdown",
   "id": "150cee55-29e3-4e72-9116-ebd48ee00dd9",
   "metadata": {},
   "source": [
    "### What we've learned  \n",
    "From the example above, we observed that (although these observation may not hold in general)  \n",
    " - partial pivoting is not necessary when we solve an equation using the inverse matrix (since it solves the equation as a whole)\n",
    " - partial pivoting is necessary in cases where \"the pivot number is very small\" and \"the variables are not very large\".\n",
    "\n",
    "In the latter case, things like $x=\\frac{1}{\\epsilon}(\\cdots)$ happen. But since $x$ is not very large, $(\\cdots)$ should be very small comparable to $\\epsilon$.  This makes the computation especially vulnerable to loss of significant digits.  "
   ]
  },
  {
   "cell_type": "markdown",
   "id": "22b02314-47e5-4f69-9ef2-4f9f782ee1c0",
   "metadata": {},
   "source": [
    "### Check through actual numerical result  \n",
    "For various $\\epsilon$, we solve the equation with and without partial pivoting.  "
   ]
  },
  {
   "cell_type": "code",
   "execution_count": 1,
   "id": "fc6e528c-4b26-4bdb-b26e-945af22b6183",
   "metadata": {},
   "outputs": [
    {
     "name": "stdout",
     "output_type": "stream",
     "text": [
      "epsilon: 1e-13\n",
      "result without partial pivoting: 0.9992007221626409\n",
      "result with partial pivoting   : 1.0000000000001\n",
      "result using inverse matrix    : 1.0000000000001001\n",
      "--------------------------------------------\n",
      "epsilon: 1e-12\n",
      "result without partial pivoting: 1.000088900582341\n",
      "result with partial pivoting   : 1.000000000001\n",
      "result using inverse matrix    : 1.000000000001\n",
      "--------------------------------------------\n",
      "epsilon: 1e-11\n",
      "result without partial pivoting: 1.000000082740371\n",
      "result with partial pivoting   : 1.00000000001\n",
      "result using inverse matrix    : 1.00000000001\n",
      "--------------------------------------------\n",
      "epsilon: 1e-10\n",
      "result without partial pivoting: 1.000000082740371\n",
      "result with partial pivoting   : 1.0000000001\n",
      "result using inverse matrix    : 1.0000000001\n",
      "--------------------------------------------\n",
      "epsilon: 1e-09\n",
      "result without partial pivoting: 1.000000082740371\n",
      "result with partial pivoting   : 1.000000001\n",
      "result using inverse matrix    : 1.000000001\n",
      "--------------------------------------------\n",
      "epsilon: 1e-08\n",
      "result without partial pivoting: 0.999999993922529\n",
      "result with partial pivoting   : 1.00000001\n",
      "result using inverse matrix    : 1.0000000100000002\n",
      "--------------------------------------------\n",
      "epsilon: 1e-07\n",
      "result without partial pivoting: 1.0000001005039394\n",
      "result with partial pivoting   : 1.00000010000001\n",
      "result using inverse matrix    : 1.00000010000001\n",
      "--------------------------------------------\n",
      "epsilon: 1e-06\n",
      "result without partial pivoting: 1.000001000006634\n",
      "result with partial pivoting   : 1.000001000001\n",
      "result using inverse matrix    : 1.000001000001\n",
      "--------------------------------------------\n"
     ]
    }
   ],
   "source": [
    "for eps in [1e-13, 1e-12, 1e-11, 1e-10, 1e-9, 1e-8, 1e-7, 1e-6]:\n",
    "\n",
    "    y = (2-3*eps)/(1-eps)   # this is the same both for the cases with and without partial pivoting\n",
    "\n",
    "    x_without = (2-y)/eps   # result without partial pivoting\n",
    "    x_with    = 3-y         # result with partial pivoting\n",
    "    x_exact   = 1/(1-eps)   # \"exact\" result using the inverse matrix\n",
    "\n",
    "    print(\"epsilon:\", eps)\n",
    "    print(\"result without partial pivoting:\", x_without)\n",
    "    print(\"result with partial pivoting   :\", x_with)\n",
    "    print(\"result using inverse matrix    :\", x_exact)\n",
    "    print(\"--------------------------------------------\")"
   ]
  },
  {
   "cell_type": "markdown",
   "id": "7f5a99d0-0c52-4a0e-bb23-6192c995a939",
   "metadata": {},
   "source": [
    "As expected, loss of significant digits happens when we do not peform partial pivoting.  \n",
    "\n",
    "But...\n",
    "#### TO DO: \n",
    "Why are the results for $\\epsilon=10^{-a}$ for $a=9,10,11$ the same (for the result without partial pivoting)?"
   ]
  },
  {
   "cell_type": "code",
   "execution_count": null,
   "id": "e18346e0-2f8c-4436-8ff8-ecac8827d0ba",
   "metadata": {},
   "outputs": [],
   "source": []
  }
 ],
 "metadata": {
  "kernelspec": {
   "display_name": "Python 3 (ipykernel)",
   "language": "python",
   "name": "python3"
  },
  "language_info": {
   "codemirror_mode": {
    "name": "ipython",
    "version": 3
   },
   "file_extension": ".py",
   "mimetype": "text/x-python",
   "name": "python",
   "nbconvert_exporter": "python",
   "pygments_lexer": "ipython3",
   "version": "3.10.1"
  }
 },
 "nbformat": 4,
 "nbformat_minor": 5
}
