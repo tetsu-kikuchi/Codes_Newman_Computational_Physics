{
 "cells": [
  {
   "cell_type": "markdown",
   "id": "3feb9ed4-cd58-4a02-b59f-34fe705977f3",
   "metadata": {},
   "source": [
    "# Excercise 5.12 : Estimate significant figures"
   ]
  },
  {
   "cell_type": "code",
   "execution_count": 1,
   "id": "b5477f45-0ea1-4e16-81c9-b8527f761388",
   "metadata": {},
   "outputs": [],
   "source": [
    "from math import pi, exp, log"
   ]
  },
  {
   "cell_type": "markdown",
   "id": "11b47682-d1a5-41e3-b4ed-930ecc68b7bc",
   "metadata": {},
   "source": [
    "## Task \n",
    "Calculate the StefanBoltzmann constant,  \n",
    "$\\sigma = \\frac{k_B^4}{4\\pi^2c^2\\hbar^3}I$ with $I=\\int_0^\\infty dx\\frac{x^3}{e^x-1}$.  \n",
    "You must be confident that your calculated result matches the true value to three significant figures."
   ]
  },
  {
   "cell_type": "markdown",
   "id": "4244ee34-b26d-4ca7-9c43-2228a392c662",
   "metadata": {},
   "source": [
    "### True value\n",
    "In fact, $I$ can be calculated analytically using the Riemann function and zeta function (horribly chatGPT knows that!).  \n",
    "The result is $I=\\frac{\\pi^4}{15}$. "
   ]
  },
  {
   "cell_type": "code",
   "execution_count": 2,
   "id": "d5f61c78-e8bc-4781-9579-8ee254429e19",
   "metadata": {},
   "outputs": [
    {
     "name": "stdout",
     "output_type": "stream",
     "text": [
      "6.493939402266828\n"
     ]
    }
   ],
   "source": [
    "print(pi**4/15)"
   ]
  },
  {
   "cell_type": "markdown",
   "id": "85f0ea54-550a-4a44-afb0-c1db50fcf61b",
   "metadata": {},
   "source": [
    "### Method \n",
    "#### Integral approximation  \n",
    "We use the trapezoid approximation with Euler-Maclaurin correction $h^2\\frac{1}{12}(f'(a)-f'(b))$. The error of this integral approximation should be $\\mathcal O(h^4)$.  \n",
    "#### Transformation function to make integral domain finite  \n",
    "We use $x=z/(1-z)$."
   ]
  },
  {
   "cell_type": "markdown",
   "id": "9ca5e46d-e4d0-4875-9271-15c27c103cf5",
   "metadata": {},
   "source": [
    "## Calculation\n",
    "\n",
    "$I=\\int_0^1 dz~g(z)$ with $g(z)=\\frac{z^3}{(1-z)^5}\\frac{1}{\\exp(\\frac{z}{1-z})-1}$.  \n",
    "After tedious calculation, it turns out that $g'(0)=g'(1)=0$.  So the Euler-Maclaurin term vanishes;  the trapezoid approximation alone has accuracy up to $\\mathcal O(h^4)$.  "
   ]
  },
  {
   "cell_type": "markdown",
   "id": "6ebbdd9a-58b7-4314-9795-72ac67f644a1",
   "metadata": {},
   "source": [
    "### Estimation of numerical error\n",
    "Let $I_{\\rm tra}$ be the numerical result of the integral $I$ obtained by the trapezoidal method.  According to the analysis above, \n",
    "${\\rm error} \\equiv I_{\\rm tra}-I = ch^4$ with some constant $c$.  \n",
    "Now, suppose we halve the integration interval $h$, and let $\\tilde I_{\\rm tra}$ be the resulting value computed by the trapezoidal method.  Then $\\tilde I_{\\rm tra}-I = \\frac{1}{16}ch^4$.  Then $I_{\\rm tra} - \\tilde I_{\\rm tra}=\\frac{15}{16}ch^4$.  \n",
    "\n",
    "When $I_{\\rm tra}$ matches $I$ to three significant figures, it means that $|{\\rm error}/I_{\\rm tra}|<10^{-4}$.  In other words, $|(I_{\\rm tra}-\\tilde I_{\\rm tra})/I_{\\rm tra}|<10^{-4}$ (here we omit the factor $\\frac{15}{16}$ because it is almost equal to one.)  \n",
    "\n",
    "Therefore, the strategy is that we gradually make $h$ small, and find $h$ at which $|(I_{\\rm tra}-\\tilde I_{\\rm tra})/I_{\\rm tra}|<10^{-4}$ holds.  "
   ]
  },
  {
   "cell_type": "code",
   "execution_count": 3,
   "id": "6f446c62-a6e9-4804-a32a-d02ec0feb3c6",
   "metadata": {},
   "outputs": [
    {
     "name": "stdout",
     "output_type": "stream",
     "text": [
      "N=10, relative_error=0.0208641512797546\n",
      "N=11, relative_error=0.020341736881876026\n",
      "N=12, relative_error=0.01423753595725406\n",
      "N=13, relative_error=0.007619031672207271\n",
      "N=14, relative_error=0.0026101988379132863\n",
      "N=15, relative_error=0.0003975219348575649\n",
      "N=16, relative_error=0.0017691396930425752\n",
      "N=17, relative_error=0.002065967483639459\n",
      "N=18, relative_error=0.0017883691312036928\n",
      "N=19, relative_error=0.0012920087593331084\n",
      "N=20, relative_error=0.0007887305591647458\n",
      "N=21, relative_error=0.0003799936873597221\n",
      "N=22, relative_error=9.570734322286653e-05\n",
      "final integral value: 6.494556552221367\n"
     ]
    }
   ],
   "source": [
    "def trapezoid(f, a, b, N):\n",
    "    \"returns integral value of f from a to b using trapezoid approximation\"\n",
    "    assert a<b\n",
    "    h = (b-a)/N\n",
    "    result = 0.\n",
    "    for k in range(1,N+1):\n",
    "        xk = a + h*k\n",
    "        result += h*f(xk)\n",
    "    result += 0.5*h*(f(a) - f(b))\n",
    "    return result\n",
    "\n",
    "def calc_relative_error(f, a, b, N):\n",
    "    \"returns |\\tilde I_{\\tra} - I_{\\tra}|/|I_{\\rm tra}|\"\n",
    "    I  = trapezoid(f, a, b, N)\n",
    "    tI = trapezoid(f, a, b, 2*N)\n",
    "    return abs(I-tI)/abs(I)\n",
    "\n",
    "def g(z):\n",
    "    assert 0 <= z <= 1.\n",
    "    eps = 1e-5\n",
    "    if eps<z<1-eps:\n",
    "        return (z**3/(1-z)**5) * (1 / (exp(z/(1-z)) - 1) )\n",
    "    else:\n",
    "        return 0\n",
    "        \n",
    "THRESHOLD = 1e-4\n",
    "for N in range(10,30):\n",
    "    relative_error = calc_relative_error(g, 0, 1, N)\n",
    "    print(f\"N={N}, relative_error={relative_error}\")\n",
    "    if relative_error < THRESHOLD:\n",
    "        break\n",
    "final_value = trapezoid(g, 0, 1, N)\n",
    "print(\"final integral value:\", final_value)"
   ]
  },
  {
   "cell_type": "markdown",
   "id": "dc8c9cb4-04a9-4f21-a0b3-3ba8774fa8c3",
   "metadata": {},
   "source": [
    "Comparing this value to the true value $I=\\frac{\\pi^4}{15}=6.49393940226682$, we see that $I_{\\rm tra}$ matches $I$ to three significant figures.  "
   ]
  },
  {
   "cell_type": "markdown",
   "id": "10e8fb4a-b953-4ee4-8b8c-fc1b237ca46c",
   "metadata": {},
   "source": [
    "Finally, we calculate $\\sigma = \\frac{k_B^4}{4\\pi^2c^2\\hbar^3}I_{\\rm tra}$ with $I_{\\rm tra}=6.494$ (here we keep $I_{\\rm tra}$ to four digits because it is correct only to three significant figures).  "
   ]
  },
  {
   "cell_type": "code",
   "execution_count": 4,
   "id": "1c7897a6-4b6e-416f-acca-dfac21ac1d8c",
   "metadata": {},
   "outputs": [
    {
     "name": "stdout",
     "output_type": "stream",
     "text": [
      "5.670439248299456e-08\n"
     ]
    }
   ],
   "source": [
    "kB = 8.617333262 * 1e-5  # eV / K\n",
    "chbar = 197.3269804 * 1e-9 # eV m\n",
    "hbar = 6.582119569 * 1e-16 # eV s\n",
    "# sigma has unit eV/(K^4 m^2 s)\n",
    "sigma = kB**4/(4 * pi**2 * chbar**2 * hbar) * 6.494 * 1.60218e-19  # last factor is to convert eV to Joule\n",
    "print(sigma)"
   ]
  },
  {
   "cell_type": "markdown",
   "id": "e6e721ad-8d74-41f4-9f9a-2f59c46ee098",
   "metadata": {},
   "source": [
    "According to Wikipedia, the Stefan–Boltzmann constant is 5.670374419e-8 [J/(K^4 m^2 s)]"
   ]
  },
  {
   "cell_type": "code",
   "execution_count": null,
   "id": "4d94b0fd-da32-429f-9a71-4008a77cbf48",
   "metadata": {},
   "outputs": [],
   "source": []
  },
  {
   "cell_type": "markdown",
   "id": "3eff79c5-23da-43a0-912e-f65ad71215e8",
   "metadata": {},
   "source": [
    "# Side task  \n",
    "For $I=\\int_0^1 dz~g(z)$ with $g(z)=\\frac{z^3}{(1-z)^5}\\frac{1}{\\exp(\\frac{z}{1-z})-1}$, the error of the trapezoidal approximation to the true value should be $\\mathcal O(h^4)$ (since $g'(0)=g'(1)=0$ and the Euler-Maclaurin term vanishes).  \n",
    "Verify this expectation.  "
   ]
  },
  {
   "cell_type": "markdown",
   "id": "ccbdca23-ad1e-4046-a64d-fb2c99bca3d1",
   "metadata": {},
   "source": [
    "### Verification    \n",
    "Let $I_{\\rm tra}(h)-I = ch^\\alpha$.  Our task is to see the value of $\\alpha$.  \n",
    "Since $I_{\\rm tra}(h/2)-I = \\frac{1}{2^\\alpha}ch^\\alpha$, we get $d(h) \\equiv I_{\\rm tra}(h)-I_{\\rm tra}(h/2) = (1-\\frac{1}{2^\\alpha})ch^\\alpha$.   \n",
    "Since $d(h/2) = \\frac{1}{2^\\alpha}(1-\\frac{1}{2^\\alpha})ch^\\alpha$, we get $d(h)/d(h/2) = 2^\\alpha$.  "
   ]
  },
  {
   "cell_type": "code",
   "execution_count": 5,
   "id": "97ee1f96-bbb1-4e43-b12b-d4bddf9a17df",
   "metadata": {},
   "outputs": [
    {
     "name": "stdout",
     "output_type": "stream",
     "text": [
      "50 12.972285281895125\n",
      "51 13.079160083351235\n",
      "52 12.949157282897822\n",
      "53 12.413217761992566\n",
      "54 11.174908435943047\n",
      "55 7.782803201556371\n",
      "56 10.786795588595565\n",
      "57 11.3142170777595\n",
      "58 11.474805785707655\n",
      "59 11.483020193769663\n",
      "60 11.404448554290578\n",
      "61 11.263012809875674\n",
      "62 11.065651843690194\n",
      "63 10.810319979611599\n",
      "64 10.4881013482088\n",
      "65 10.080491121737968\n",
      "66 9.551916660009542\n",
      "67 8.8206200737143\n",
      "68 7.616200092368787\n",
      "69 3.607667449893733\n",
      "70 7.424485005788675\n",
      "71 8.152834871768567\n",
      "72 8.472157028456133\n",
      "73 8.604956750790105\n",
      "74 8.622624947556428\n",
      "75 8.555950291655138\n",
      "76 8.419630058623758\n",
      "77 8.219585406476284\n",
      "78 7.955199616247061\n",
      "79 7.618836577449121\n",
      "80 7.1935877053534325\n",
      "81 6.640537281823625\n",
      "82 5.863157104075609\n",
      "83 4.495848917700224\n",
      "84 2.77164811604478\n",
      "85 4.907253088681647\n",
      "86 5.564460003849378\n",
      "87 5.889797187733371\n",
      "88 6.058057854627107\n",
      "89 6.129776157132241\n",
      "90 6.134455553870352\n",
      "91 6.087970093671214\n",
      "92 6.000027693775015\n",
      "93 5.877770201229615\n",
      "94 5.724724363430323\n",
      "95 5.545407939833012\n",
      "96 5.342328270962222\n",
      "97 5.118159802835643\n",
      "98 4.8785095576397275\n",
      "99 4.62683586456318\n",
      "100 4.367461286622174\n",
      "101 4.111504446169235\n",
      "102 3.86827559408\n",
      "103 3.649875308205865\n",
      "104 3.4706101528325357\n",
      "105 3.3394651518700385\n",
      "106 3.2619419733636392\n",
      "107 3.237752365364068\n",
      "108 3.2558653549559162\n",
      "109 3.3068341231271074\n",
      "110 3.3787840129332465\n",
      "111 3.460528465511202\n",
      "112 3.544293550654403\n",
      "113 3.6266336377920427\n",
      "114 3.7038659014703903\n",
      "115 3.773283746381123\n",
      "116 3.832811459924457\n",
      "117 3.886503307336648\n",
      "118 3.9316169083250303\n",
      "119 3.9675454173084246\n",
      "120 3.99872507437234\n",
      "121 4.021575613109647\n",
      "122 4.037200580433613\n",
      "123 4.049750126956976\n",
      "124 4.05924137001354\n",
      "125 4.0619865662352\n",
      "126 4.064829976369968\n",
      "127 4.062508081863265\n",
      "128 4.061232169226089\n",
      "129 4.055817756315656\n",
      "130 4.052121953243975\n",
      "131 4.045203609315664\n",
      "132 4.039134516444215\n",
      "133 4.03260261773006\n",
      "134 4.027761405071531\n",
      "135 4.022724458707661\n",
      "136 4.016343612509825\n",
      "137 4.009465501691441\n",
      "138 4.0081401102217145\n",
      "139 4.006663084055726\n",
      "140 4.001476234494366\n",
      "141 3.9987211053240395\n",
      "142 3.9950042098515905\n",
      "143 3.9935646418152806\n",
      "144 3.993036344545139\n",
      "145 3.9923206625500294\n",
      "146 3.995130499162023\n",
      "147 3.99477673464266\n",
      "148 3.9909480840153457\n",
      "149 3.992456660815383\n"
     ]
    }
   ],
   "source": [
    "def trapezoid(f, a, b, N):\n",
    "    \"returns integral value of f from a to b using trapezoid approximation\"\n",
    "    assert a<b\n",
    "    h = (b-a)/N\n",
    "    result = 0.\n",
    "    for k in range(1,N+1):\n",
    "        xk = a + h*k\n",
    "        result += h*f(xk)\n",
    "    result += 0.5*h*(f(a) - f(b))\n",
    "    return result\n",
    "\n",
    "def g(z):\n",
    "    assert 0 <= z <= 1.\n",
    "    eps = 1e-5\n",
    "    if eps<z<1-eps:\n",
    "        return (z**3/(1-z)**5) * (1 / (exp(z/(1-z)) - 1) )\n",
    "    else:\n",
    "        return 0\n",
    "\n",
    "def calc_alpha(N):\n",
    "    d  = trapezoid(g, 0, 1, N) - trapezoid(g, 0, 1, 2*N)\n",
    "    d2 = trapezoid(g, 0, 1, 2*N) - trapezoid(g, 0, 1, 4*N)\n",
    "    #print(d, d2, d/d2)\n",
    "    alpha = log(abs(d/d2), 2)\n",
    "    return alpha\n",
    "\n",
    "for N in range(50,150):\n",
    "    print(N, calc_alpha(N))"
   ]
  },
  {
   "cell_type": "markdown",
   "id": "4c62e7bc-0cdf-45e9-b05f-248544ca2eda",
   "metadata": {},
   "source": [
    "As expected, $\\alpha$ goes to $4$ as we decrease $h$.  \n",
    "\n",
    "But note that $\\alpha$ deviates much from its theoretical value $4$ when $N<100$.  \n",
    "I do not find a clear reason for this behavior.  One guess is as follows :  \n",
    "Our analysis assumes that $I_{\\rm tra}(h)-I$ can be well approximated as $I_{\\rm tra}(h)-I = c_4h^4$, that is, the higher order terms $\\mathcal O(h^6)$ can be neglected. But when the coefficient $c_6$ in the expansion $I_{\\rm tra}(h)-I = c_4h^4 + c_6 h^6 + \\cdots$, is large, our assumption is not valid  when $h$ is not sufficiently small.  So one possibility is that $c_6$ is large.  "
   ]
  },
  {
   "cell_type": "code",
   "execution_count": null,
   "id": "eb47eb38-8656-4e5d-8657-85e4061b9571",
   "metadata": {},
   "outputs": [],
   "source": []
  },
  {
   "cell_type": "markdown",
   "id": "1d78d50a-ac04-4b6c-988a-ac5f2fa29e20",
   "metadata": {},
   "source": [
    "# TO DO :\n",
    "How accuracy will the numerical results be if we use transformation $x=\\tan(z)$ instead of $x=z/(1-z)$ ?"
   ]
  },
  {
   "cell_type": "code",
   "execution_count": null,
   "id": "cccad564-2395-47d6-aa17-e0c895b5f37f",
   "metadata": {},
   "outputs": [],
   "source": []
  }
 ],
 "metadata": {
  "kernelspec": {
   "display_name": "Python 3 (ipykernel)",
   "language": "python",
   "name": "python3"
  },
  "language_info": {
   "codemirror_mode": {
    "name": "ipython",
    "version": 3
   },
   "file_extension": ".py",
   "mimetype": "text/x-python",
   "name": "python",
   "nbconvert_exporter": "python",
   "pygments_lexer": "ipython3",
   "version": "3.10.1"
  }
 },
 "nbformat": 4,
 "nbformat_minor": 5
}
