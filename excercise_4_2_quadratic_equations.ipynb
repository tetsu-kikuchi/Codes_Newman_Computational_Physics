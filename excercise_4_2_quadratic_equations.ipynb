{
 "cells": [
  {
   "cell_type": "markdown",
   "id": "ee27cebb-c97b-4a1b-8217-3e2eb42dfb21",
   "metadata": {},
   "source": [
    "# Excercise 4.2 : Quadratic equations"
   ]
  },
  {
   "cell_type": "code",
   "execution_count": 1,
   "id": "87c2e35a-8f55-4c9b-9615-2d6d010000c2",
   "metadata": {},
   "outputs": [],
   "source": [
    "import numpy as np\n",
    "from math import sqrt \n",
    "import matplotlib.pyplot as plt"
   ]
  },
  {
   "cell_type": "code",
   "execution_count": 2,
   "id": "9b92953b-029d-41b4-aba1-ab153a774704",
   "metadata": {},
   "outputs": [],
   "source": [
    "def solve_quadratic_1(a, b, c):\n",
    "    \"\"\"\n",
    "    returns the solutions of ax^2 + bx + c = 0 \n",
    "    using the formula x = (-b \\pm sqrt(b^2-4ac))/2a\n",
    "    \"\"\"\n",
    "    s1 = (-b + sqrt(b**2 - 4*a*c))/(2*a)  \n",
    "    s2 = (-b - sqrt(b**2 - 4*a*c))/(2*a)  \n",
    "    return s1,s2 \n",
    "\n",
    "def solve_quadratic_2(a, b, c):\n",
    "    \"\"\"\n",
    "    returns the solutions of ax^2 + bx + c = 0 \n",
    "    using the formula x = 2c/(-b \\mp sqrt(b^2-4ac))\n",
    "    \"\"\"\n",
    "    s1 = 2*c/(-b - sqrt(b**2 - 4*a*c)) \n",
    "    s2 = 2*c/(-b + sqrt(b**2 - 4*a*c)) \n",
    "    return s1,s2 "
   ]
  },
  {
   "cell_type": "markdown",
   "id": "ac72d4ab-9387-48e7-94a2-360018d8d1b8",
   "metadata": {},
   "source": [
    "__Consider the solutions of 0.001x^2 + 1000x + 0.001 = 0.__  \n",
    "\n",
    "__Task 1:__  \n",
    "Solve the quadratic equation analytically, and find the expected values of the solutions (in 64 bit floating point precision) assuming that  no loss of significance happens. \n",
    "\n",
    "__Task 2:__  \n",
    "Estimate how much loss of significance will occur for numerical solutions of the quadratic equations when we use solve_quadratic_1 or solve_quadratic_2.  \n",
    "\n",
    "__Task 3:__  \n",
    "Write down a function to numerially solve an arbitrary quadratic equation that is not affected by significance digit loss. "
   ]
  },
  {
   "cell_type": "markdown",
   "id": "147be096-21bb-4508-9270-07b1e34623fa",
   "metadata": {},
   "source": [
    "First, let us draw the parabola anyway"
   ]
  },
  {
   "cell_type": "code",
   "execution_count": 3,
   "id": "3016e313-27b1-477b-b114-6fc26bae1555",
   "metadata": {},
   "outputs": [
    {
     "data": {
      "image/png": "[encoded data removed]",
      "text/plain": [
       "<Figure size 640x480 with 1 Axes>"
      ]
     },
     "metadata": {},
     "output_type": "display_data"
    }
   ],
   "source": [
    "x = np.linspace(-1100000,100000, 1000)\n",
    "y = 1e-3*x**2 + 1e3*x + 1e-3\n",
    "plt.plot(x,y)\n",
    "plt.plot(x,np.zeros_like(x), 'black', ls='--')\n",
    "plt.show()"
   ]
  },
  {
   "cell_type": "markdown",
   "id": "70417889-2259-46fc-8027-b1b062c7c1e3",
   "metadata": {},
   "source": [
    "## Task 1 :  \n",
    "Solve the quadratic equation analytically, and find the expected values of the solutions (in 64 bit floating point precision) assuming that  no loss of significance happens. \n",
    "\n",
    "The solutions of 0.001x^2 + 1000x + 0.001 = 0 are, using the standard formula,  \n",
    "$x = \\frac{1}{2}(-10^6 \\pm \\sqrt{10^{12}-4})$  \n",
    "Using the Taylor expansion,  \n",
    "$\\sqrt{10^{12}-4} = 10^6 - 2*10^{-6}$,  \n",
    "where we omit the remainder term because it has the order of $10^{-24}$ compared to the leading term $10^6$ and thus we do not have to care it within 64 bit double precision (which has about 16 significance digits).   \n",
    "Thus, the solutions are  \n",
    "$x = \\frac{1}{2}(-10^6 \\pm (10^6 - 2*10^{-6}))$  \n",
    "If no loss of significance happens, we can perform the addition and subtraction associatively (i.e. with free order), so  \n",
    "$x = -10^{-6}, -10^6+10^{-6}$  \n",
    "for greater and lesser solution, respectively.  "
   ]
  },
  {
   "cell_type": "markdown",
   "id": "8e76f1fb-a313-4581-a10e-6f0aee97b8a3",
   "metadata": {},
   "source": [
    "## Task 2:  \n",
    "Estimate how much loss of significance will occur for numerical solutions of the quadratic equations when we use solve_quadratic_1 or solve_quadratic_2.\n",
    "\n",
    "In the case of solve_quadratic_1, the solutions are  \n",
    "$x = \\frac{1}{2}(-10^6 \\pm (10^6 - 2*10^{-6}))$.      \n",
    "In $10^6 - 2*10^{-6}$, loss of significance happens for $2*10^{-6}$;  only about 16-(6+6)=4 digits remain siginificant for $2*10^{-6}$.   For the lesser solution (choosing the lower sign of $\\pm$), since $10^6 - 2*10^{-6}$ is only added to $10^6$, the loss of significance in $2*10^{-6}$ does not affect the total result.  On the other hand, for the greater solution, since $10^6$ in $10^6 - 2*10^{-6}$ is subtracted afterwards, the loss of significance in $2*10^{-6}$ has high impact.  \n",
    "\n",
    "In fact, "
   ]
  },
  {
   "cell_type": "code",
   "execution_count": 4,
   "id": "cb71ba5e-dff4-46bf-935a-9a449b40c0a0",
   "metadata": {},
   "outputs": [
    {
     "data": {
      "text/plain": [
       "(-9.999894245993346e-07, -999999.999999)"
      ]
     },
     "execution_count": 4,
     "metadata": {},
     "output_type": "execute_result"
    }
   ],
   "source": [
    "solve_quadratic_1(0.001, 1000, 0.001)"
   ]
  },
  {
   "cell_type": "markdown",
   "id": "201285dd-82d2-4c4a-9f7c-fd30ba1374fd",
   "metadata": {},
   "source": [
    "where the greater solution matches the analytical value, $-10^{-6}$, with only about 4 digits, as expected.   "
   ]
  },
  {
   "cell_type": "markdown",
   "id": "1b08cf84-1735-4b5c-86ca-584fe6684b9a",
   "metadata": {},
   "source": [
    "In the case of solve_quadratic_2, the solutions are  \n",
    "$x = \\frac{2*10^{-3}}{-10^6 \\mp (10^6 - 2*10^{-6})}$  \n",
    "Ths story is opposite compared to the case of solve_quadratic_1 : in this case, the lesser solution loses accuracy due to the loss of significance in $2*10^{-6}$.  \n",
    "\n",
    "In fact, "
   ]
  },
  {
   "cell_type": "code",
   "execution_count": 5,
   "id": "a8645ddf-0e6c-4996-994f-77c9e737a921",
   "metadata": {},
   "outputs": [
    {
     "data": {
      "text/plain": [
       "(-1.000000000001e-06, -1000010.5755125057)"
      ]
     },
     "execution_count": 5,
     "metadata": {},
     "output_type": "execute_result"
    }
   ],
   "source": [
    "solve_quadratic_2(0.001, 1000, 0.001)"
   ]
  },
  {
   "cell_type": "markdown",
   "id": "5e26525c-86e8-4dad-8938-72f376f7351b",
   "metadata": {},
   "source": [
    "where the lesser solution matches the analytical value, $-10^6+10^{-6}$, with only about 4 digits, as expected.  "
   ]
  },
  {
   "cell_type": "markdown",
   "id": "9d430706-4ca0-45c6-9f7a-21ba0c8be304",
   "metadata": {},
   "source": [
    "## Task 3:  \n",
    "Write down a function to numerially solve an arbitrary quadratic equation that is not affected by significance digit loss.  \n",
    "\n",
    "From the experience of Task 2, we now see that:  \n",
    "\n",
    "If b>0, use solve_quadratic_2[0] and solve_quadratic_1[1]  \n",
    "If b<0, use solve_quadratic_1[0] and solve_quadratic_2[1]  \n",
    "(Here, [0] and [1] means the first and the second component of the returned value, respectively)  \n",
    "\n",
    "Thus, the following function will not be affected by the loss of significance.  "
   ]
  },
  {
   "cell_type": "code",
   "execution_count": 6,
   "id": "bdf4f014-e8f1-4790-936f-5f0e7fc3e071",
   "metadata": {},
   "outputs": [],
   "source": [
    "def solve_quadratic(a,b,c):\n",
    "    if b>=0:\n",
    "        return solve_quadratic_2(a,b,c)[0], solve_quadratic_1(a,b,c)[1]\n",
    "    else:\n",
    "        return solve_quadratic_1(a,b,c)[0], solve_quadratic_2(a,b,c)[1]"
   ]
  },
  {
   "cell_type": "code",
   "execution_count": 7,
   "id": "45c7d59a-6da7-4dc7-ae27-8ae87377b995",
   "metadata": {},
   "outputs": [
    {
     "data": {
      "text/plain": [
       "(-1.000000000001e-06, -999999.999999)"
      ]
     },
     "execution_count": 7,
     "metadata": {},
     "output_type": "execute_result"
    }
   ],
   "source": [
    "solve_quadratic(0.001, 1000, 0.001)"
   ]
  },
  {
   "cell_type": "markdown",
   "id": "0bd971d5-dfd7-40cb-8252-8105b5791a11",
   "metadata": {},
   "source": [
    "Check other cases:"
   ]
  },
  {
   "cell_type": "code",
   "execution_count": 8,
   "id": "b98bdd44-c31f-47d3-b312-182c21585ab1",
   "metadata": {},
   "outputs": [
    {
     "name": "stdout",
     "output_type": "stream",
     "text": [
      "(9999999.999999, 9.997165761888027e-07)\n",
      "(10002835.041630277, 1.0000000000001001e-06)\n",
      "(9999999.999999, 1.0000000000001001e-06)\n"
     ]
    }
   ],
   "source": [
    "a, b, c = 1e-2, -1e5, 1e-1\n",
    "print(solve_quadratic_1(a, b, c)) # since b<0, only the first component is correct\n",
    "print(solve_quadratic_2(a, b, c)) # since b<0, only the second component is correct\n",
    "print(solve_quadratic(a, b, c))"
   ]
  },
  {
   "cell_type": "code",
   "execution_count": 9,
   "id": "89c8178a-3906-440b-af17-b47a8ea5ada1",
   "metadata": {},
   "outputs": [
    {
     "name": "stdout",
     "output_type": "stream",
     "text": [
      "(-9.999894245993346e-09, 10000.000000009999)\n",
      "(-9.999999999990001e-09, 10000.105755125058)\n",
      "(-9.999999999990001e-09, 10000.000000009999)\n"
     ]
    }
   ],
   "source": [
    "a, b, c = -1e-1, 1e3, 1e-5\n",
    "print(solve_quadratic_1(a, b, c))  # since b>0, only the second component is correct\n",
    "print(solve_quadratic_2(a, b, c))  # since b>0, only the first component is correct\n",
    "print(solve_quadratic(a, b, c))"
   ]
  },
  {
   "cell_type": "code",
   "execution_count": null,
   "id": "40a9b54c-e20f-43ec-918b-2aa9d23b38ae",
   "metadata": {},
   "outputs": [],
   "source": []
  },
  {
   "cell_type": "code",
   "execution_count": null,
   "id": "298e1fac-cf62-40ce-9378-72ae2020aa76",
   "metadata": {},
   "outputs": [],
   "source": []
  },
  {
   "cell_type": "code",
   "execution_count": null,
   "id": "1fe82d4a-5091-4b66-9b2a-da00c2d29ee5",
   "metadata": {},
   "outputs": [],
   "source": []
  }
 ],
 "metadata": {
  "kernelspec": {
   "display_name": "Python 3 (ipykernel)",
   "language": "python",
   "name": "python3"
  },
  "language_info": {
   "codemirror_mode": {
    "name": "ipython",
    "version": 3
   },
   "file_extension": ".py",
   "mimetype": "text/x-python",
   "name": "python",
   "nbconvert_exporter": "python",
   "pygments_lexer": "ipython3",
   "version": "3.10.1"
  }
 },
 "nbformat": 4,
 "nbformat_minor": 5
}
