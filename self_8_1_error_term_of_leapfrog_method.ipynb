{
 "cells": [
  {
   "cell_type": "markdown",
   "id": "e794734f-81d5-4928-a445-364915a62e3b",
   "metadata": {},
   "source": [
    "# Self-learning 8.1 : Error term of leapfrog method \n",
    "\n",
    "This notebook is just for a minor remark.   \n",
    "\n",
    "We consider the error term $\\varepsilon(h)$ in the leapfrog method,  \n",
    "$x(t+h) = x(t) + hf(x(t+\\frac{h}{2}), t+\\frac{h}{2}) + \\varepsilon(h)$,   \n",
    "to solve an ordinary differential equation $\\frac{dx}{dt} = f(x(t), t)$. \n",
    "\n",
    "In the textbook at section 8.5.4, it is said that \n",
    ">Given that the leapfrog method is time-reversal symmetric—the change in the solution going backwards is exactly the reverse of the change forwards—it follows that the backward error $\\varepsilon$(—h) must be minus the forward one:  \n",
    "> $\\varepsilon(—h) = —\\varepsilon(h)$.  \n",
    "\n",
    "But this logic is a little bit hand-waving, since in the textbook (to my understanding) the fact that the leapfrog method is time-reversal symmetric is discussed only to the extent that the error term $\\varepsilon$ is neglected.   \n",
    "\n",
    "So in this notebook we calculate $\\varepsilon(h)$ straightforwardly and show that it contains only odd powers of $h$.   "
   ]
  },
  {
   "cell_type": "markdown",
   "id": "9c910258-bd86-4554-b0bd-78c4a29366be",
   "metadata": {},
   "source": [
    "This can be easily shown by Taylor expansion,   \n",
    "$$\n",
    "\\begin{align}\n",
    "x(t+h) =& x(t+\\frac{h}{2}) + \\frac{h}{2}x'(t+\\frac{h}{2}) + \\frac{1}{2!}\\left(\\frac{h}{2}\\right)^2x''(t+\\frac{h}{2}) + \\frac{1}{3!}\\left(\\frac{h}{2}\\right)^3x^{(3)}(t+\\frac{h}{2}) + \\cdots   \\\\ \n",
    "x(t) =& x(t+\\frac{h}{2}) - \\frac{h}{2}x'(t+\\frac{h}{2}) + \\frac{1}{2!}\\left(\\frac{h}{2}\\right)^2x''(t+\\frac{h}{2}) - \\frac{1}{3!}\\left(\\frac{h}{2}\\right)^3x^{(3)}(t+\\frac{h}{2}) + \\cdots\n",
    "\\end{align}\n",
    "$$\n",
    "where $x^{(n)}(t)$ denots the n-th order derivative.  \n",
    "By subtracting the second from the first, we get \n",
    "$$\n",
    "x(t+h) = x(t) + hf(x(t+\\frac{h}{2}), t+\\frac{h}{2}) + \\varepsilon(h)\n",
    "$$\n",
    "with \n",
    "$$\n",
    "\\varepsilon(h) = \\sum_{n=1}^\\infty \\frac{2}{(2n+1)!}\\left(\\frac{h}{2}\\right)^{2n+1}x^{(2n+1)}(t+\\frac{h}{2}).\n",
    "$$\n",
    "Thus $\\varepsilon(h)$ contains only odd powers of $h$ and so $\\varepsilon(-h) = -\\varepsilon(h)$."
   ]
  },
  {
   "cell_type": "markdown",
   "id": "23e86938-ba40-4b8a-b69a-4dc58b1c26db",
   "metadata": {},
   "source": [
    "(The discussion above is not restricted to the leapfrog method but can be generally applied to midpoint methods.)"
   ]
  },
  {
   "cell_type": "code",
   "execution_count": null,
   "id": "142348ad-13cc-42b5-b00c-bbe8fc5e3228",
   "metadata": {},
   "outputs": [],
   "source": []
  }
 ],
 "metadata": {
  "kernelspec": {
   "display_name": "Python 3 (ipykernel)",
   "language": "python",
   "name": "python3"
  },
  "language_info": {
   "codemirror_mode": {
    "name": "ipython",
    "version": 3
   },
   "file_extension": ".py",
   "mimetype": "text/x-python",
   "name": "python",
   "nbconvert_exporter": "python",
   "pygments_lexer": "ipython3",
   "version": "3.10.1"
  }
 },
 "nbformat": 4,
 "nbformat_minor": 5
}
