{
 "cells": [
  {
   "cell_type": "markdown",
   "id": "d5194b1a-da33-4fdf-9d15-49f18c802e60",
   "metadata": {},
   "source": [
    "## Self-learning 4.1 The basics of floating point, its addition and multiplication"
   ]
  },
  {
   "cell_type": "code",
   "execution_count": 1,
   "id": "c2d16179-8247-4df5-b477-b9041974c8b0",
   "metadata": {},
   "outputs": [],
   "source": [
    "import numpy as np"
   ]
  },
  {
   "cell_type": "code",
   "execution_count": 2,
   "id": "b4d5175b-9677-4333-a3fa-227d733ae521",
   "metadata": {},
   "outputs": [],
   "source": [
    "# for later use, define some functions\n",
    "def parse_double(d):  # given a 64bit double, this function returns its sign, exponent, fraction part\n",
    "    x = np.float64(d)\n",
    "    x_int64 = x.view(np.int64)  # reinterpret the bits of x as int64 (necessary to use 064b in the next line)\n",
    "    binary_str = str(f\"{x_int64:064b}\")  # convert the number to string representing the binary\n",
    "    sign = binary_str[0]\n",
    "    exponent = binary_str[1:12]\n",
    "    fraction = binary_str[12:]\n",
    "    return sign, exponent, fraction\n",
    "\n",
    "def make_double(sign_str, exponent_str, fraction_str):  # this is the \"inverse\" of parse_double\n",
    "    assert len(sign_str)==1 and len(exponent_str)==11 and len(fraction_str)==52\n",
    "    sign = int(sign_str, 2)\n",
    "    exponent = int(exponent_str, 2)\n",
    "    fraction = 0.\n",
    "    for dig in range(52):\n",
    "        bit = int(fraction_str[dig])\n",
    "        r = bit * 2**(-dig-1)\n",
    "        fraction += r\n",
    "    assert fraction < 1.\n",
    "    d = (-1)**sign * (1. + fraction) * 2**(exponent - 1023)\n",
    "    return d"
   ]
  },
  {
   "cell_type": "markdown",
   "id": "d135ecad-3f07-4a29-9749-bc7b72d363c5",
   "metadata": {},
   "source": [
    "# Task 1 (the basics of floating point representation)\n",
    "For the following results in the next cell, \n",
    " - Explain why the results are rounded to 17 digits.\n",
    " - Explain the specific values shown in the results: why are \"0.12345678901234568\" and \"1.2345678901234567\" chosen as the approximate values in a computer? "
   ]
  },
  {
   "cell_type": "code",
   "execution_count": 3,
   "id": "df0705a4-5539-4556-abcd-86d797e8b73d",
   "metadata": {},
   "outputs": [
    {
     "name": "stdout",
     "output_type": "stream",
     "text": [
      "0.12345678901234568\n",
      "1.2345678901234567\n"
     ]
    }
   ],
   "source": [
    "print(0.1234567890123456789)\n",
    "print(1.234567890123456789)"
   ]
  },
  {
   "cell_type": "markdown",
   "id": "99dc8e4a-9caf-4cc1-bd1d-547718196b4f",
   "metadata": {},
   "source": [
    "### Explanation of 17 digits\n",
    "\n",
    "In python, a real numbers is expresed by default as a double (64bit) floating point number, which is decomposed as :  \n",
    "sign bit (1bit)  \n",
    "exponent (11bit)  \n",
    "fraction (52bit)  \n",
    "and the number is given by\n",
    "$(-1)^{\\rm s} * (1. + {\\rm fraction}) * 2^{{\\rm exponent}-1023}$.  \n",
    "\n",
    "The range is governed by the exponent part, and the precision is by the fraction part.  \n",
    "The minimal step (compared to 1) is $2^{-52}\\approx 2.22{e-16}$, the 64bit double has meaning only up to the 16th decimal place.  Thus the digits which have meaning to show to user is 1+16=17.\n",
    "\n",
    "Note: For denormalized number (with its absolute value $<2^{-1022}\\approx 2.22e-308$), the story is a little bit different.\n",
    "\n",
    "### Explanation of the specific approximate values\n",
    "First, we consider the case\n",
    "print(0.1234567890123456789) = 0.12345678901234568"
   ]
  },
  {
   "cell_type": "code",
   "execution_count": 4,
   "id": "aa74d765-5496-4366-8969-b576a500039a",
   "metadata": {},
   "outputs": [
    {
     "name": "stdout",
     "output_type": "stream",
     "text": [
      "0 01111111011 1111100110101101110100110111010001101111011001011111\n"
     ]
    }
   ],
   "source": [
    "s, e, f = parse_double(0.12345678901234568)\n",
    "print(s,e,f)"
   ]
  },
  {
   "cell_type": "code",
   "execution_count": 5,
   "id": "d32e0d74-10c4-432e-8ba3-4f26fe73cc49",
   "metadata": {},
   "outputs": [
    {
     "name": "stdout",
     "output_type": "stream",
     "text": [
      "0.12345678901234566\n",
      "0.12345678901234568\n",
      "0.12345678901234569\n"
     ]
    }
   ],
   "source": [
    "print(make_double(\"0\", \"01111111011\", \"1111100110101101110100110111010001101111011001011110\"))\n",
    "print(make_double(\"0\", \"01111111011\", \"1111100110101101110100110111010001101111011001011111\"))\n",
    "print(make_double(\"0\", \"01111111011\", \"1111100110101101110100110111010001101111011001100000\"))"
   ]
  },
  {
   "cell_type": "markdown",
   "id": "e7c4b21e-ad5d-4354-a6d1-9fc4aad3ceb5",
   "metadata": {},
   "source": [
    "Now we can see that 0.12345678901234568 was chosen because it is the closest to the \"true value\" 0.1234567890123456789.\n",
    "\n",
    "Similarly, 1.2345678901234567 was chosen because it is the closest to the \"true value\" 1.234567890123456789, as follows."
   ]
  },
  {
   "cell_type": "code",
   "execution_count": 6,
   "id": "965193c5-41f4-4634-913a-25ae78efd4eb",
   "metadata": {},
   "outputs": [
    {
     "name": "stdout",
     "output_type": "stream",
     "text": [
      "0 01111111111 0011110000001100101001000010100011000101100111111011\n"
     ]
    }
   ],
   "source": [
    "s, e, f = parse_double(1.234567890123456789)\n",
    "print(s,e,f)"
   ]
  },
  {
   "cell_type": "code",
   "execution_count": 7,
   "id": "3d6b8807-34d0-4fd3-a69b-f6c6a02c4711",
   "metadata": {},
   "outputs": [
    {
     "name": "stdout",
     "output_type": "stream",
     "text": [
      "1.2345678901234565\n",
      "1.2345678901234567\n",
      "1.234567890123457\n"
     ]
    }
   ],
   "source": [
    "print(make_double(\"0\", \"01111111111\", \"0011110000001100101001000010100011000101100111111010\"))\n",
    "print(make_double(\"0\", \"01111111111\", \"0011110000001100101001000010100011000101100111111011\"))\n",
    "print(make_double(\"0\", \"01111111111\", \"0011110000001100101001000010100011000101100111111100\"))"
   ]
  },
  {
   "cell_type": "markdown",
   "id": "fca4e833-77e8-44ca-a864-66fd6eef76b9",
   "metadata": {},
   "source": [
    "Note : \n",
    "Of course, computer internally has digits more than 17.  Since $2^{-52} = 2.220446049250313080847263336181640625{\\mathrm e}{\\text -}16$ (37 digits), exact values corresponding to floating points generally have digits more than 16+37=53.  The next cell is an example:"
   ]
  },
  {
   "cell_type": "code",
   "execution_count": 8,
   "id": "85d4ad19-2f44-458f-9ce5-f126766ee88b",
   "metadata": {},
   "outputs": [
    {
     "name": "stdout",
     "output_type": "stream",
     "text": [
      "0.29999999999999998889776975374843459576368331909179687500000000000\n",
      "0.02999999999999999888977697537484345957636833190917968750000000000\n",
      "0.00300000000000000006245004513516505539882928133010864257812500000\n"
     ]
    }
   ],
   "source": [
    "print(f\"{0.3:.65f}\")\n",
    "print(f\"{0.03:.65f}\")\n",
    "print(f\"{0.003:.65f}\")"
   ]
  },
  {
   "cell_type": "code",
   "execution_count": null,
   "id": "e5dd87ab-3323-43a0-b34d-16cf32ba4f05",
   "metadata": {},
   "outputs": [],
   "source": []
  },
  {
   "cell_type": "markdown",
   "id": "ee74688d-64c1-4200-909f-4f46a22675b7",
   "metadata": {},
   "source": [
    "# Task 2 (floating point addition)\n",
    "\n",
    "According to https://www.sciencedirect.com/topics/computer-science/floating-point-addition, the rule of floating point addition is as follows:\n",
    "\n",
    "\n",
    "1. Extract exponent and fraction bits.  \n",
    "2. Prepend leading 1 to form the mantissa.  \n",
    "3. Compare exponents.  \n",
    "4. Shift smaller mantissa if necessary.  \n",
    "5. Add mantissas.  \n",
    "6. Normalize mantissa and adjust exponent if necessary.  \n",
    "7. Round result.  \n",
    "8. Assemble exponent and fraction back into floating-point number.  \n",
    "\n",
    "(mantissa is the same meaning as the word \"fraction\" we use here.)  \n",
    "Explain the following results according to the rule."
   ]
  },
  {
   "cell_type": "code",
   "execution_count": 9,
   "id": "77a84d0f-b02c-41c3-bc95-f31d6da57941",
   "metadata": {},
   "outputs": [
    {
     "name": "stdout",
     "output_type": "stream",
     "text": [
      "0.003\n",
      "0.03\n",
      "0.30000000000000004\n",
      "0.3\n",
      "---------\n",
      "0.7999999999999999\n",
      "59.419999999999995\n"
     ]
    }
   ],
   "source": [
    "print(0.001 + 0.002)\n",
    "print(0.01 + 0.02)\n",
    "print(0.1 + 0.2)\n",
    "print(0.11 + 0.19)\n",
    "print(\"---------\")\n",
    "print(0.1 + 0.7)\n",
    "print(5.8 + 53.62)"
   ]
  },
  {
   "cell_type": "markdown",
   "id": "ce161504-1cb7-4892-bd2a-ceb0d2c807d4",
   "metadata": {},
   "source": [
    "### Explanation of 0.001 + 0.002 = 0.003"
   ]
  },
  {
   "cell_type": "code",
   "execution_count": 10,
   "id": "95d779b9-295a-4e09-99d4-c4970967aef1",
   "metadata": {},
   "outputs": [
    {
     "name": "stdout",
     "output_type": "stream",
     "text": [
      "('0', '01111110101', '0000011000100100110111010010111100011010100111111100')\n",
      "('0', '01111110110', '0000011000100100110111010010111100011010100111111100')\n"
     ]
    }
   ],
   "source": [
    "print(parse_double(0.001))\n",
    "print(parse_double(0.002))"
   ]
  },
  {
   "cell_type": "markdown",
   "id": "b1a29170-547a-42b7-90fc-784bda45f8b0",
   "metadata": {},
   "source": [
    "Name the former as A and the latter as B.  We connect the exponent and the fraction by '__':  \n",
    "A = 01111110101___0000011000100100110111010010111100011010100111111100  \n",
    "B = 01111110110___0000011000100100110111010010111100011010100111111100  \n",
    "Prepend \"1.\" to the fraction part, the result of which we call \"1+f part\":  \n",
    "A = 01111110101_1.0000011000100100110111010010111100011010100111111100  \n",
    "B = 01111110110_1.0000011000100100110111010010111100011010100111111100  \n",
    "Make the exponent of A as the same as that of B, and shift the 1+f part to the right:  \n",
    "A = 01111110110_0.1000001100010010011011101001011110001101010011111110  \n",
    "B = 01111110110_1.0000011000100100110111010010111100011010100111111100  \n",
    "Add the 1+f parts, and call the result C:   \n",
    "C = 01111110110_1.1000100100110111010010111100011010100111111011111010  \n",
    "Delete \"1.\":  \n",
    "C = 01111110110___1000100100110111010010111100011010100111111011111010\n",
    "\n",
    "Now we can see the result is 0.003"
   ]
  },
  {
   "cell_type": "code",
   "execution_count": 11,
   "id": "89705b27-f159-4146-81a3-d98a9850a6fe",
   "metadata": {},
   "outputs": [
    {
     "data": {
      "text/plain": [
       "0.003"
      ]
     },
     "execution_count": 11,
     "metadata": {},
     "output_type": "execute_result"
    }
   ],
   "source": [
    "make_double(\"0\", \"01111110110\", \"1000100100110111010010111100011010100111111011111010\")"
   ]
  },
  {
   "cell_type": "markdown",
   "id": "4580b757-258d-4d51-a435-5545bd7ee737",
   "metadata": {},
   "source": [
    "### Explanation of 0.01 + 0.02 = 0.03"
   ]
  },
  {
   "cell_type": "code",
   "execution_count": 12,
   "id": "c2ad29fa-5dbb-4ad7-8eb6-c47928647b70",
   "metadata": {},
   "outputs": [
    {
     "name": "stdout",
     "output_type": "stream",
     "text": [
      "('0', '01111111000', '0100011110101110000101000111101011100001010001111011')\n",
      "('0', '01111111001', '0100011110101110000101000111101011100001010001111011')\n"
     ]
    }
   ],
   "source": [
    "print(parse_double(0.01))\n",
    "print(parse_double(0.02))"
   ]
  },
  {
   "cell_type": "markdown",
   "id": "9c37eb0a-3bbb-403c-877f-0a093587b2ca",
   "metadata": {},
   "source": [
    "Name the former as A and the latter as B.  We connect the exponent and the fraction by '__':  \n",
    "A = 01111111000___0100011110101110000101000111101011100001010001111011  \n",
    "B = 01111111001___0100011110101110000101000111101011100001010001111011  \n",
    "Prepend \"1.\" to the fraction part, the result of which we call \"1+f part\":   \n",
    "A = 01111111000_1.0100011110101110000101000111101011100001010001111011  \n",
    "B = 01111111001_1.0100011110101110000101000111101011100001010001111011  \n",
    "Make the exponent of A as the same as that of B, and shift the 1+f part to the right:  \n",
    "A = 01111111001_0.10100011110101110000101000111101011100001010001111011  \n",
    "B = 01111111001_1.0100011110101110000101000111101011100001010001111011  \n",
    "Add the 1+f parts, and call the result C:   \n",
    "C = 01111111001_1.11101011100001010001111010111000010100011110101110001  \n",
    "Round the fraction part:  \n",
    "C = 01111111001_1.1110101110000101000111101011100001010001111010111000  \n",
    "Delete \"1.\":  \n",
    "C = 01111111001___1110101110000101000111101011100001010001111010111000  \n",
    "\n",
    "In the rounding process, I assume that the rule is to make the lowest bit to 0.  (I do knot the \"round to even\" rule in detail.)\n",
    "\n",
    "Now we can see the result is 0.03"
   ]
  },
  {
   "cell_type": "code",
   "execution_count": 13,
   "id": "665530a1-14df-438e-b3b8-4674fccba53d",
   "metadata": {},
   "outputs": [
    {
     "data": {
      "text/plain": [
       "0.03"
      ]
     },
     "execution_count": 13,
     "metadata": {},
     "output_type": "execute_result"
    }
   ],
   "source": [
    "make_double(\"0\", \"01111111001\", \"1110101110000101000111101011100001010001111010111000\")"
   ]
  },
  {
   "cell_type": "markdown",
   "id": "72a1d3cd-665d-4bfa-aeeb-482eb7720430",
   "metadata": {},
   "source": [
    "### Explanation of 0.1 + 0.2 = 0.30000000000000004"
   ]
  },
  {
   "cell_type": "code",
   "execution_count": 14,
   "id": "cc49529d-2807-4fe7-8cd0-2e2177bcd6c1",
   "metadata": {},
   "outputs": [
    {
     "name": "stdout",
     "output_type": "stream",
     "text": [
      "('0', '01111111011', '1001100110011001100110011001100110011001100110011010')\n",
      "('0', '01111111100', '1001100110011001100110011001100110011001100110011010')\n"
     ]
    }
   ],
   "source": [
    "print(parse_double(0.1))\n",
    "print(parse_double(0.2))"
   ]
  },
  {
   "cell_type": "markdown",
   "id": "f776efd1-a2f0-40b5-9781-9c46d0bd3687",
   "metadata": {},
   "source": [
    "Name the former as A and the latter as B.  We connect the exponent and the fraction by '__':  \n",
    "A = 01111111011____1001100110011001100110011001100110011001100110011010  \n",
    "B = 01111111100____1001100110011001100110011001100110011001100110011010  \n",
    "Prepend \"1.\" to the fraction part, the result of which we call \"1+f part\":  \n",
    "A = 01111111011__1.1001100110011001100110011001100110011001100110011010  \n",
    "B = 01111111100__1.1001100110011001100110011001100110011001100110011010  \n",
    "Make the exponent of A as the same as that of B, and shift the 1+f part to the right:  \n",
    "A = 01111111100__0.1100110011001100110011001100110011001100110011001101  \n",
    "B = 01111111100__1.1001100110011001100110011001100110011001100110011010  \n",
    "Add the 1+f parts, and call the result C:   \n",
    "C = 01111111100_10.0110011001100110011001100110011001100110011001100111  \n",
    "Shift the 1+f part to the right, and increase the exponent part by 1.  \n",
    "C = 01111111101__1.00110011001100110011001100110011001100110011001100111  \n",
    "Round the fraction part:  \n",
    "C = 01111111101__1.0011001100110011001100110011001100110011001100110100  \n",
    "Delete \"1.\":  \n",
    "C = 01111111101____0011001100110011001100110011001100110011001100110100\n",
    "\n",
    "Now we can see the result is 0.30000000000000004"
   ]
  },
  {
   "cell_type": "code",
   "execution_count": 15,
   "id": "26fb57af-34a5-46ec-8fcc-c8a5ba265956",
   "metadata": {},
   "outputs": [
    {
     "data": {
      "text/plain": [
       "0.30000000000000004"
      ]
     },
     "execution_count": 15,
     "metadata": {},
     "output_type": "execute_result"
    }
   ],
   "source": [
    "make_double(\"0\", \"01111111101\", \"0011001100110011001100110011001100110011001100110100\")"
   ]
  },
  {
   "cell_type": "markdown",
   "id": "17872f2b-9506-4964-92fd-8a9b32b6909d",
   "metadata": {},
   "source": [
    "### Explanation of 0.11 + 0.19 = 0.3"
   ]
  },
  {
   "cell_type": "code",
   "execution_count": 16,
   "id": "0442a528-8843-410c-8b6c-007c1a5a6903",
   "metadata": {},
   "outputs": [
    {
     "name": "stdout",
     "output_type": "stream",
     "text": [
      "('0', '01111111011', '1100001010001111010111000010100011110101110000101001')\n",
      "('0', '01111111100', '1000010100011110101110000101000111101011100001010010')\n"
     ]
    }
   ],
   "source": [
    "print(parse_double(0.11))\n",
    "print(parse_double(0.19))"
   ]
  },
  {
   "cell_type": "markdown",
   "id": "927f97ec-e54d-4ffb-ae4f-a40de161d2e3",
   "metadata": {},
   "source": [
    "Name the former as A and the latter as B.  We connect the exponent and the fraction by '__':  \n",
    "A = 01111111011____1100001010001111010111000010100011110101110000101001  \n",
    "B = 01111111100____1000010100011110101110000101000111101011100001010010  \n",
    "Prepend \"1.\" to the fraction part, the result of which we call \"1+f part\":  \n",
    "A = 01111111011__1.1100001010001111010111000010100011110101110000101001  \n",
    "B = 01111111100__1.1000010100011110101110000101000111101011100001010010  \n",
    "Make the exponent of A as the same as that of B, and shift the 1+f part to the right:  \n",
    "A = 01111111100__0.11100001010001111010111000010100011110101110000101001  \n",
    "B = 01111111100__1.1000010100011110101110000101000111101011100001010010  \n",
    "Add the 1+f parts, and call the result C:   \n",
    "C = 01111111100__10.01100110011001100110011001100110011001100110011001101  \n",
    "Shift the 1+f part to the right, and increase the exponent part by 1.  \n",
    "C = 01111111101__1.001100110011001100110011001100110011001100110011001101  \n",
    "Round the fraction part (in this case we should round 2 digits to make the final fraction 52 digits):  \n",
    "C = 01111111101__1.0011001100110011001100110011001100110011001100110011  \n",
    "Delete \"1.\":  \n",
    "C = 01111111101____0011001100110011001100110011001100110011001100110011\n",
    "\n",
    "Now we can see the result is 0.3"
   ]
  },
  {
   "cell_type": "code",
   "execution_count": 17,
   "id": "efa7409d-c8fa-4fb8-8b23-f7b720715398",
   "metadata": {},
   "outputs": [
    {
     "data": {
      "text/plain": [
       "0.3"
      ]
     },
     "execution_count": 17,
     "metadata": {},
     "output_type": "execute_result"
    }
   ],
   "source": [
    "make_double(\"0\", \"01111111101\", \"0011001100110011001100110011001100110011001100110011\")"
   ]
  },
  {
   "cell_type": "markdown",
   "id": "a22b46e8-f94e-40de-b45b-b854bd56d8f3",
   "metadata": {},
   "source": [
    "### Explanation of 0.1 + 0.7 = 0.7999999999999999"
   ]
  },
  {
   "cell_type": "code",
   "execution_count": 18,
   "id": "b90a09da-6d25-45e9-a0f3-d9bdd639ea5c",
   "metadata": {},
   "outputs": [
    {
     "name": "stdout",
     "output_type": "stream",
     "text": [
      "('0', '01111111011', '1001100110011001100110011001100110011001100110011010')\n",
      "('0', '01111111110', '0110011001100110011001100110011001100110011001100110')\n"
     ]
    }
   ],
   "source": [
    "print(parse_double(0.1))\n",
    "print(parse_double(0.7))"
   ]
  },
  {
   "cell_type": "markdown",
   "id": "5084237d-30c4-412d-8460-1a415e79c729",
   "metadata": {},
   "source": [
    "Name the former as A and the latter as B.  We connect the exponent and the fraction by '__':  \n",
    "A = 01111111011___1001100110011001100110011001100110011001100110011010  \n",
    "B = 01111111110___0110011001100110011001100110011001100110011001100110  \n",
    "Prepend \"1.\" to the fraction part, the result of which we call \"1+f part\":  \n",
    "A = 01111111011_1.1001100110011001100110011001100110011001100110011010  \n",
    "B = 01111111110_1.0110011001100110011001100110011001100110011001100110  \n",
    "Make the exponent of A as the same as that of B, and shift the 1+f part to the right:  \n",
    "A = 01111111110_0.0011001100110011001100110011001100110011001100110011010  \n",
    "B = 01111111110_1.0110011001100110011001100110011001100110011001100110  \n",
    "Add the 1+f parts, and call the result C:   \n",
    "C = 01111111110_1.1001100110011001100110011001100110011001100110011001010  \n",
    "Round the fraction part of C:  \n",
    "C = 01111111110_1.1001100110011001100110011001100110011001100110011001  \n",
    "Delete \"1.\":  \n",
    "C = 01111111110___1001100110011001100110011001100110011001100110011001  \n",
    "\n",
    "Now we can see the result is 0.7999999999999999"
   ]
  },
  {
   "cell_type": "code",
   "execution_count": 19,
   "id": "fd7b56e9-11ab-437d-8fe7-f919fe9e6e74",
   "metadata": {},
   "outputs": [
    {
     "data": {
      "text/plain": [
       "0.7999999999999999"
      ]
     },
     "execution_count": 19,
     "metadata": {},
     "output_type": "execute_result"
    }
   ],
   "source": [
    "make_double(\"0\", \"01111111110\", \"1001100110011001100110011001100110011001100110011001\")"
   ]
  },
  {
   "cell_type": "markdown",
   "id": "ed914ff1-abae-41b2-8678-2f5d4c8c1e5c",
   "metadata": {},
   "source": [
    "### Explanation of 5.8 + 53.62 = 59.419999999999995"
   ]
  },
  {
   "cell_type": "code",
   "execution_count": 20,
   "id": "d17b9a71-007f-42cd-bbb2-dbba043c4542",
   "metadata": {},
   "outputs": [
    {
     "name": "stdout",
     "output_type": "stream",
     "text": [
      "('0', '10000000001', '0111001100110011001100110011001100110011001100110011')\n",
      "('0', '10000000100', '1010110011110101110000101000111101011100001010001111')\n"
     ]
    }
   ],
   "source": [
    "print(parse_double(5.8))\n",
    "print(parse_double(53.62))"
   ]
  },
  {
   "cell_type": "markdown",
   "id": "5704cbdf-24eb-4faa-8730-af50bf58a3f0",
   "metadata": {},
   "source": [
    "Name the former as A and the latter as B.  We connect the exponent and the fraction by '__':  \n",
    "A = 10000000001____0111001100110011001100110011001100110011001100110011  \n",
    "B = 10000000100____1010110011110101110000101000111101011100001010001111  \n",
    "Prepend \"1.\" to the fraction part, the result of which we call \"1+f part\":  \n",
    "A = 10000000001__1.0111001100110011001100110011001100110011001100110011  \n",
    "B = 10000000100__1.1010110011110101110000101000111101011100001010001111  \n",
    "Make the exponent of A as the same as that of B, and shift the 1+f part to the right:  \n",
    "A = 10000000100__0.0010111001100110011001100110011001100110011001100110011  \n",
    "B = 10000000100__1.1010110011110101110000101000111101011100001010001111  \n",
    "Add the 1+f parts, and call the result C:   \n",
    "C = 10000000100__1.1101101101011100001010001111010111000010100011110101011  \n",
    "Round the fraction part of C:  \n",
    "C = 10000000100__1.1101101101011100001010001111010111000010100011110101  \n",
    "Delete \"1.\":  \n",
    "C = 10000000100____1101101101011100001010001111010111000010100011110101 \n",
    "\n",
    "Now we can see the result is 59.419999999999995"
   ]
  },
  {
   "cell_type": "code",
   "execution_count": 21,
   "id": "3ada29ff-03b2-4de8-a174-b822f20d7044",
   "metadata": {},
   "outputs": [
    {
     "data": {
      "text/plain": [
       "59.419999999999995"
      ]
     },
     "execution_count": 21,
     "metadata": {},
     "output_type": "execute_result"
    }
   ],
   "source": [
    "make_double(\"0\", \"10000000100\", \"1101101101011100001010001111010111000010100011110101\")"
   ]
  },
  {
   "cell_type": "code",
   "execution_count": null,
   "id": "fdfb8cff-af2d-4c7d-a7e7-d83abf0460a4",
   "metadata": {},
   "outputs": [],
   "source": []
  },
  {
   "cell_type": "markdown",
   "id": "0063603b-d1bb-4724-bd9c-fb1958782e3f",
   "metadata": {},
   "source": [
    "# Task 3 (floating point multiplication)\n",
    "According to https://www.doc.ic.ac.uk/~eedwards/compsys/float/, the floating point multiplication rule is that\n",
    "\n",
    "1. Add the biased exponents\n",
    "2. Multiply the mantissas\n",
    "3. Normalise\n",
    "4. Round the result\n",
    "\n",
    "Explain the following results according to this rule:"
   ]
  },
  {
   "cell_type": "code",
   "execution_count": 22,
   "id": "d3977bd6-65a4-4aa7-a36d-49b413b9abb0",
   "metadata": {},
   "outputs": [
    {
     "name": "stdout",
     "output_type": "stream",
     "text": [
      "4.16\n",
      "0.06999999999999999\n",
      "543.21\n"
     ]
    }
   ],
   "source": [
    "print(1.3 * 3.2)\n",
    "print(0.1 * 0.7)\n",
    "print(1e2 * 5.4321)"
   ]
  },
  {
   "cell_type": "markdown",
   "id": "45b2cb7d-d57c-47df-aec0-f02824a3db62",
   "metadata": {},
   "source": [
    "### Explanation of 1.3 * 3.2 = 4.16"
   ]
  },
  {
   "cell_type": "code",
   "execution_count": 23,
   "id": "f0e8dae7-dc87-4e62-8865-f7d8e9ac7ce7",
   "metadata": {},
   "outputs": [
    {
     "name": "stdout",
     "output_type": "stream",
     "text": [
      "('0', '01111111111', '0100110011001100110011001100110011001100110011001101')\n",
      "('0', '10000000000', '1001100110011001100110011001100110011001100110011010')\n"
     ]
    }
   ],
   "source": [
    "print(parse_double(1.3))\n",
    "print(parse_double(3.2))"
   ]
  },
  {
   "cell_type": "markdown",
   "id": "64cb806a-4095-4e1c-8d70-a621cadf1452",
   "metadata": {},
   "source": [
    "A = 01111111111____0100110011001100110011001100110011001100110011001101  \n",
    "B = 10000000000____1001100110011001100110011001100110011001100110011010  \n",
    "Prepend \"1.\" to the fraction part:  \n",
    "A = 01111111111__1.0100110011001100110011001100110011001100110011001101  \n",
    "B = 10000000000__1.1001100110011001100110011001100110011001100110011010  \n",
    "Add the biased exponent:  \n",
    "(01111111111)_2 + (10000000000)_2 - (01111111111)_2 = (10000000000)_2  \n",
    "Multiply the 1+f parts:  \n",
    "1.0100110011001100110011001100110011001100110011001101 * 1.1001100110011001100110011001100110011001100110011010 = 10.0001010001111010111000010100011110101110000101001000 (truncated to 55 bits)  \n",
    "Then C=A*B is:  \n",
    "C = 10000000000____10.0001010001111010111000010100011110101110000101001000  \n",
    "Normalize:  \n",
    "C = 10000000001____1.00001010001111010111000010100011110101110000101001000  \n",
    "Round:  \n",
    "C = 10000000001____1.0000101000111101011100001010001111010111000010100100  \n",
    "\n",
    "I am a lazy person so I used https://www.exploringbinary.com/binary-calculator/ to multiply 1+f parts.  \n",
    "Thus, we see that the result is 4.16"
   ]
  },
  {
   "cell_type": "code",
   "execution_count": 24,
   "id": "d8dcc04e-4b02-4d36-b75e-a3f55593028c",
   "metadata": {},
   "outputs": [
    {
     "data": {
      "text/plain": [
       "4.16"
      ]
     },
     "execution_count": 24,
     "metadata": {},
     "output_type": "execute_result"
    }
   ],
   "source": [
    "make_double(\"0\", \"10000000001\", \"0000101000111101011100001010001111010111000010100100\")"
   ]
  },
  {
   "cell_type": "markdown",
   "id": "e0f717b9-f7c4-48d1-a3fc-1e250041ca92",
   "metadata": {},
   "source": [
    "### Explanation of 0.1 * 0.7 = 0.06999999999999999"
   ]
  },
  {
   "cell_type": "code",
   "execution_count": 25,
   "id": "dea2b418-ddc4-485a-8f48-38aec9805db0",
   "metadata": {},
   "outputs": [
    {
     "name": "stdout",
     "output_type": "stream",
     "text": [
      "('0', '01111111011', '1001100110011001100110011001100110011001100110011010')\n",
      "('0', '01111111110', '0110011001100110011001100110011001100110011001100110')\n"
     ]
    }
   ],
   "source": [
    "print(parse_double(0.1))\n",
    "print(parse_double(0.7))"
   ]
  },
  {
   "cell_type": "markdown",
   "id": "f8090731-ffc9-482a-a1eb-56500c647824",
   "metadata": {},
   "source": [
    "A = 01111111011____1001100110011001100110011001100110011001100110011010  \n",
    "B = 01111111110____0110011001100110011001100110011001100110011001100110  \n",
    "Prepend \"1.\" to the fraction part:  \n",
    "A = 01111111011__1.1001100110011001100110011001100110011001100110011010  \n",
    "B = 01111111110__1.0110011001100110011001100110011001100110011001100110  \n",
    "Add the biased exponent:  \n",
    "01111111011 + 01111111110 - 01111111111 = 01111111010  \n",
    "Multiply the 1+f parts:  \n",
    "1.1001100110011001100110011001100110011001100110011010 * 1.0110011001100110011001100110011001100110011001100110 = 10.00111101011100001010001111010111000010100011110101101 (truncated to 55 digits)  \n",
    "Then C=A*B is:  \n",
    "C = 01111111010____10.00111101011100001010001111010111000010100011110101101  \n",
    "Normalize:  \n",
    "C = 01111111011____1.000111101011100001010001111010111000010100011110101101  \n",
    "Round:  \n",
    "C = 01111111011____1.0001111010111000010100011110101110000101000111101011  \n",
    "\n",
    "Thus, we see that the result is 0.06999999999999999"
   ]
  },
  {
   "cell_type": "code",
   "execution_count": 26,
   "id": "48c19894-9fe0-476b-b523-e0edf6c21e38",
   "metadata": {},
   "outputs": [
    {
     "data": {
      "text/plain": [
       "0.06999999999999999"
      ]
     },
     "execution_count": 26,
     "metadata": {},
     "output_type": "execute_result"
    }
   ],
   "source": [
    "make_double(\"0\", \"01111111011\", \"0001111010111000010100011110101110000101000111101011\")"
   ]
  },
  {
   "cell_type": "markdown",
   "id": "1bfe11c7-d2d4-403e-969f-d7f1a0917dc4",
   "metadata": {},
   "source": [
    "### Explanation of 1e2 * 5.4321 = 543.21"
   ]
  },
  {
   "cell_type": "code",
   "execution_count": 27,
   "id": "7d2cc854-1ac7-40ed-9570-1212f090cf0f",
   "metadata": {},
   "outputs": [
    {
     "name": "stdout",
     "output_type": "stream",
     "text": [
      "('0', '10000000101', '1001000000000000000000000000000000000000000000000000')\n",
      "('0', '10000000001', '0101101110100111100001101100001000100110100000001010')\n"
     ]
    }
   ],
   "source": [
    "print(parse_double(1e2))\n",
    "print(parse_double(5.4321))"
   ]
  },
  {
   "cell_type": "markdown",
   "id": "21d156af-208f-4f98-ae68-507af69c669a",
   "metadata": {},
   "source": [
    "A = 10000000101____1001000000000000000000000000000000000000000000000000  \n",
    "B = 10000000001____0101101110100111100001101100001000100110100000001010  \n",
    "Prepend \"1.\" to the fraction part:  \n",
    "A = 10000000101__1.1001000000000000000000000000000000000000000000000000  \n",
    "B = 10000000001__1.0101101110100111100001101100001000100110100000001010  \n",
    "Add the biased exponent:  \n",
    "10000000101 + 10000000001 - 01111111111 = 10000000111  \n",
    "Multiply the 1+f parts:  \n",
    "1.1001000000000000000000000000000000000000000000000000 * 1.0101101110100111100001101100001000100110100000001010 = 10.0001111100110101110000101000111101011100001010001111101  \n",
    "Then C=A*B is:  \n",
    "C = 10000000111____10.0001111100110101110000101000111101011100001010001111101  \n",
    "Normalize:  \n",
    "C = 10000001000____1.00001111100110101110000101000111101011100001010001111101  \n",
    "Round:  \n",
    "C = 10000001000____1.0000111110011010111000010100011110101110000101001000\n",
    "\n",
    "Thus, we see that the result is 543.21"
   ]
  },
  {
   "cell_type": "code",
   "execution_count": 28,
   "id": "dd81a78b-7632-40df-a39a-9d32cb163820",
   "metadata": {},
   "outputs": [
    {
     "data": {
      "text/plain": [
       "543.21"
      ]
     },
     "execution_count": 28,
     "metadata": {},
     "output_type": "execute_result"
    }
   ],
   "source": [
    "make_double(\"0\", \"10000001000\", \"0000111110011010111000010100011110101110000101001000\")"
   ]
  },
  {
   "cell_type": "markdown",
   "id": "b054122f-2f07-45ff-a0a9-51e9e8440ae6",
   "metadata": {},
   "source": [
    "FYI : "
   ]
  },
  {
   "cell_type": "code",
   "execution_count": 29,
   "id": "31994a64-5543-4cae-be6b-480311066d1a",
   "metadata": {},
   "outputs": [
    {
     "name": "stdout",
     "output_type": "stream",
     "text": [
      "543.210000000000036379788070917129516601562500000000000000000000\n"
     ]
    }
   ],
   "source": [
    "print(f\"{543.21:.60f}\")"
   ]
  },
  {
   "cell_type": "code",
   "execution_count": null,
   "id": "cf31b5c4-0c16-417d-a855-10a4aaef5d91",
   "metadata": {},
   "outputs": [],
   "source": []
  },
  {
   "cell_type": "code",
   "execution_count": null,
   "id": "b847f0a2-2bd2-42ad-aa2f-00a36af809bb",
   "metadata": {},
   "outputs": [],
   "source": []
  },
  {
   "cell_type": "code",
   "execution_count": null,
   "id": "02f78cc5-8579-44d3-8996-31173316d701",
   "metadata": {},
   "outputs": [],
   "source": []
  }
 ],
 "metadata": {
  "kernelspec": {
   "display_name": "Python 3 (ipykernel)",
   "language": "python",
   "name": "python3"
  },
  "language_info": {
   "codemirror_mode": {
    "name": "ipython",
    "version": 3
   },
   "file_extension": ".py",
   "mimetype": "text/x-python",
   "name": "python",
   "nbconvert_exporter": "python",
   "pygments_lexer": "ipython3",
   "version": "3.10.1"
  }
 },
 "nbformat": 4,
 "nbformat_minor": 5
}
